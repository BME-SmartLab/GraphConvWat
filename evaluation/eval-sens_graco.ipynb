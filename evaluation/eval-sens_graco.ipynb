{
 "cells": [
  {
   "cell_type": "code",
   "execution_count": 1,
   "id": "3ceb919c",
   "metadata": {},
   "outputs": [],
   "source": [
    "import os\n",
    "import numpy as np\n",
    "import pandas as pd\n",
    "import seaborn as sns"
   ]
  },
  {
   "cell_type": "code",
   "execution_count": 2,
   "id": "a7e45d22",
   "metadata": {},
   "outputs": [],
   "source": [
    "path_to_csv = os.path.join('..', 'experiments', 'Taylor_metrics_processed.csv')"
   ]
  },
  {
   "cell_type": "code",
   "execution_count": 3,
   "id": "7fbb0e2e",
   "metadata": {},
   "outputs": [],
   "source": [
    "df = pd.read_csv(path_to_csv, index_col=0)"
   ]
  },
  {
   "cell_type": "code",
   "execution_count": 4,
   "id": "fcc21487",
   "metadata": {},
   "outputs": [
    {
     "data": {
      "text/html": [
       "<div>\n",
       "<style scoped>\n",
       "    .dataframe tbody tr th:only-of-type {\n",
       "        vertical-align: middle;\n",
       "    }\n",
       "\n",
       "    .dataframe tbody tr th {\n",
       "        vertical-align: top;\n",
       "    }\n",
       "\n",
       "    .dataframe thead th {\n",
       "        text-align: right;\n",
       "    }\n",
       "</style>\n",
       "<table border=\"1\" class=\"dataframe\">\n",
       "  <thead>\n",
       "    <tr style=\"text-align: right;\">\n",
       "      <th></th>\n",
       "      <th>run_id</th>\n",
       "      <th>MSEc</th>\n",
       "      <th>sigma_pred</th>\n",
       "      <th>sigma_true</th>\n",
       "      <th>seed</th>\n",
       "      <th>wds</th>\n",
       "      <th>placement</th>\n",
       "      <th>obs_rat</th>\n",
       "      <th>adjacency</th>\n",
       "      <th>tag</th>\n",
       "      <th>num</th>\n",
       "      <th>model</th>\n",
       "      <th>corr_coeff</th>\n",
       "    </tr>\n",
       "  </thead>\n",
       "  <tbody>\n",
       "    <tr>\n",
       "      <th>0</th>\n",
       "      <td>anytown-fixrnd-0.05-binary-def-1-orig</td>\n",
       "      <td>329.145719</td>\n",
       "      <td>18.142374</td>\n",
       "      <td>18.142374</td>\n",
       "      <td>0</td>\n",
       "      <td>anytown</td>\n",
       "      <td>fixrnd</td>\n",
       "      <td>0.05</td>\n",
       "      <td>binary</td>\n",
       "      <td>def</td>\n",
       "      <td>1</td>\n",
       "      <td>orig</td>\n",
       "      <td>1.000000</td>\n",
       "    </tr>\n",
       "    <tr>\n",
       "      <th>1</th>\n",
       "      <td>anytown-fixrnd-0.05-binary-def-1-gcn</td>\n",
       "      <td>305.902143</td>\n",
       "      <td>17.431887</td>\n",
       "      <td>18.142374</td>\n",
       "      <td>0</td>\n",
       "      <td>anytown</td>\n",
       "      <td>fixrnd</td>\n",
       "      <td>0.05</td>\n",
       "      <td>binary</td>\n",
       "      <td>def</td>\n",
       "      <td>1</td>\n",
       "      <td>gcn</td>\n",
       "      <td>0.967262</td>\n",
       "    </tr>\n",
       "    <tr>\n",
       "      <th>2</th>\n",
       "      <td>anytown-fixrnd-0.05-binary-def-2-gcn</td>\n",
       "      <td>289.265015</td>\n",
       "      <td>16.723429</td>\n",
       "      <td>18.142374</td>\n",
       "      <td>0</td>\n",
       "      <td>anytown</td>\n",
       "      <td>fixrnd</td>\n",
       "      <td>0.05</td>\n",
       "      <td>binary</td>\n",
       "      <td>def</td>\n",
       "      <td>2</td>\n",
       "      <td>gcn</td>\n",
       "      <td>0.953403</td>\n",
       "    </tr>\n",
       "    <tr>\n",
       "      <th>3</th>\n",
       "      <td>anytown-fixrnd-0.05-binary-def-3-gcn</td>\n",
       "      <td>274.175302</td>\n",
       "      <td>16.311682</td>\n",
       "      <td>18.142374</td>\n",
       "      <td>0</td>\n",
       "      <td>anytown</td>\n",
       "      <td>fixrnd</td>\n",
       "      <td>0.05</td>\n",
       "      <td>binary</td>\n",
       "      <td>def</td>\n",
       "      <td>3</td>\n",
       "      <td>gcn</td>\n",
       "      <td>0.926479</td>\n",
       "    </tr>\n",
       "    <tr>\n",
       "      <th>4</th>\n",
       "      <td>anytown-fixrnd-0.05-binary-def-4-gcn</td>\n",
       "      <td>277.586525</td>\n",
       "      <td>16.270504</td>\n",
       "      <td>18.142374</td>\n",
       "      <td>0</td>\n",
       "      <td>anytown</td>\n",
       "      <td>fixrnd</td>\n",
       "      <td>0.05</td>\n",
       "      <td>binary</td>\n",
       "      <td>def</td>\n",
       "      <td>4</td>\n",
       "      <td>gcn</td>\n",
       "      <td>0.940380</td>\n",
       "    </tr>\n",
       "  </tbody>\n",
       "</table>\n",
       "</div>"
      ],
      "text/plain": [
       "                                  run_id        MSEc  sigma_pred  sigma_true  \\\n",
       "0  anytown-fixrnd-0.05-binary-def-1-orig  329.145719   18.142374   18.142374   \n",
       "1   anytown-fixrnd-0.05-binary-def-1-gcn  305.902143   17.431887   18.142374   \n",
       "2   anytown-fixrnd-0.05-binary-def-2-gcn  289.265015   16.723429   18.142374   \n",
       "3   anytown-fixrnd-0.05-binary-def-3-gcn  274.175302   16.311682   18.142374   \n",
       "4   anytown-fixrnd-0.05-binary-def-4-gcn  277.586525   16.270504   18.142374   \n",
       "\n",
       "   seed      wds placement  obs_rat adjacency  tag  num model  corr_coeff  \n",
       "0     0  anytown    fixrnd     0.05    binary  def    1  orig    1.000000  \n",
       "1     0  anytown    fixrnd     0.05    binary  def    1   gcn    0.967262  \n",
       "2     0  anytown    fixrnd     0.05    binary  def    2   gcn    0.953403  \n",
       "3     0  anytown    fixrnd     0.05    binary  def    3   gcn    0.926479  \n",
       "4     0  anytown    fixrnd     0.05    binary  def    4   gcn    0.940380  "
      ]
     },
     "execution_count": 4,
     "metadata": {},
     "output_type": "execute_result"
    }
   ],
   "source": [
    "df.head()"
   ]
  },
  {
   "cell_type": "markdown",
   "id": "b9f65833",
   "metadata": {},
   "source": [
    "# Preprocessing"
   ]
  },
  {
   "cell_type": "code",
   "execution_count": 5,
   "id": "4dae4951",
   "metadata": {},
   "outputs": [],
   "source": [
    "df = df[~df['run_id'].str.contains('fixrnd')] # dropping old results\n",
    "df['test_csv'] = df['run_id']\n",
    "df['test_csv'] = df['test_csv'].apply(lambda fn: fn[:-4]+'_tst.csv')"
   ]
  },
  {
   "cell_type": "markdown",
   "id": "4fb6cfbc",
   "metadata": {},
   "source": [
    "# Loading test results"
   ]
  },
  {
   "cell_type": "code",
   "execution_count": 6,
   "id": "40335881",
   "metadata": {},
   "outputs": [],
   "source": [
    "def read_test_result(fn):\n",
    "    path_to_res = os.path.join('..', 'experiments', 'logs', fn)\n",
    "    res_df = pd.read_csv(path_to_res, header=None, index_col=None, skiprows=1)\n",
    "    res_dict = dict()\n",
    "    for i in range(len(res_df)):\n",
    "        res_dict[res_df.iloc[i][0]] = res_df.iloc[i][1]\n",
    "    return res_dict"
   ]
  },
  {
   "cell_type": "code",
   "execution_count": 7,
   "id": "91eccc23",
   "metadata": {},
   "outputs": [],
   "source": [
    "tempo_df = pd.DataFrame([read_test_result(fn) for fn in df['test_csv']], index=df['run_id'])\n",
    "df.set_index('run_id', inplace=True)\n",
    "df = df.join(tempo_df)"
   ]
  },
  {
   "cell_type": "markdown",
   "id": "80a18e0d",
   "metadata": {},
   "source": [
    "# Unique algo ids"
   ]
  },
  {
   "cell_type": "code",
   "execution_count": 8,
   "id": "8dedbbe8",
   "metadata": {},
   "outputs": [],
   "source": [
    "ids = df.index.tolist()\n",
    "algos = set()\n",
    "for elem in ids:\n",
    "    algos.add(elem.split('-')[1])"
   ]
  },
  {
   "cell_type": "code",
   "execution_count": 9,
   "id": "a08d3280",
   "metadata": {},
   "outputs": [
    {
     "name": "stdout",
     "output_type": "stream",
     "text": [
      "{'hdvar', 'xrandom', 'random', 'hydrodist', 'master', 'dist', 'hds'}\n"
     ]
    }
   ],
   "source": [
    "print(algos)"
   ]
  },
  {
   "cell_type": "markdown",
   "id": "c19ce887",
   "metadata": {},
   "source": [
    "* master: entry nodes of tanks and reservoirs.\n",
    "* random: nodes selected according to the uniform random distribution. Budget is the sum of the num. of master nodes and the original budget.\n",
    "* xrandom: master + nodes selected according to the uniform random distribution.\n",
    "* dist: shortest path weighted with pipe length.\n",
    "* hydrodist: shortest path weighted with hydraulic distance.\n",
    "* hdvar: shortest path weighted with nodal head variation.\n",
    "* hds: shortest path weighted with nodal sensitivity."
   ]
  },
  {
   "cell_type": "code",
   "execution_count": 10,
   "id": "7b5f074a",
   "metadata": {},
   "outputs": [],
   "source": [
    "df['plaseed'] = df['placement'] + '-' + df['seed'].astype(str)"
   ]
  },
  {
   "cell_type": "code",
   "execution_count": 11,
   "id": "902df31b",
   "metadata": {},
   "outputs": [
    {
     "data": {
      "text/html": [
       "<div>\n",
       "<style scoped>\n",
       "    .dataframe tbody tr th:only-of-type {\n",
       "        vertical-align: middle;\n",
       "    }\n",
       "\n",
       "    .dataframe tbody tr th {\n",
       "        vertical-align: top;\n",
       "    }\n",
       "\n",
       "    .dataframe thead th {\n",
       "        text-align: right;\n",
       "    }\n",
       "</style>\n",
       "<table border=\"1\" class=\"dataframe\">\n",
       "  <thead>\n",
       "    <tr style=\"text-align: right;\">\n",
       "      <th></th>\n",
       "      <th>MSEc</th>\n",
       "      <th>sigma_pred</th>\n",
       "      <th>sigma_true</th>\n",
       "      <th>seed</th>\n",
       "      <th>wds</th>\n",
       "      <th>placement</th>\n",
       "      <th>obs_rat</th>\n",
       "      <th>adjacency</th>\n",
       "      <th>tag</th>\n",
       "      <th>num</th>\n",
       "      <th>model</th>\n",
       "      <th>corr_coeff</th>\n",
       "      <th>test_csv</th>\n",
       "      <th>tst_loss</th>\n",
       "      <th>tst_rel_err</th>\n",
       "      <th>tst_rel_err_o</th>\n",
       "      <th>tst_rel_err_h</th>\n",
       "      <th>plaseed</th>\n",
       "    </tr>\n",
       "    <tr>\n",
       "      <th>run_id</th>\n",
       "      <th></th>\n",
       "      <th></th>\n",
       "      <th></th>\n",
       "      <th></th>\n",
       "      <th></th>\n",
       "      <th></th>\n",
       "      <th></th>\n",
       "      <th></th>\n",
       "      <th></th>\n",
       "      <th></th>\n",
       "      <th></th>\n",
       "      <th></th>\n",
       "      <th></th>\n",
       "      <th></th>\n",
       "      <th></th>\n",
       "      <th></th>\n",
       "      <th></th>\n",
       "      <th></th>\n",
       "    </tr>\n",
       "  </thead>\n",
       "  <tbody>\n",
       "    <tr>\n",
       "      <th>anytown-master-1-binary-ms-1-gcn</th>\n",
       "      <td>313.845493</td>\n",
       "      <td>17.844183</td>\n",
       "      <td>18.142374</td>\n",
       "      <td>0</td>\n",
       "      <td>anytown</td>\n",
       "      <td>master</td>\n",
       "      <td>1.0</td>\n",
       "      <td>binary</td>\n",
       "      <td>ms</td>\n",
       "      <td>1</td>\n",
       "      <td>gcn</td>\n",
       "      <td>0.969449</td>\n",
       "      <td>anytown-master-1-binary-ms-1_tst.csv</td>\n",
       "      <td>0.001033</td>\n",
       "      <td>0.047284</td>\n",
       "      <td>0.018305</td>\n",
       "      <td>0.051860</td>\n",
       "      <td>master-0</td>\n",
       "    </tr>\n",
       "    <tr>\n",
       "      <th>ctown-master-5-binary-ms-1-gcn</th>\n",
       "      <td>1211.081307</td>\n",
       "      <td>34.768258</td>\n",
       "      <td>34.856233</td>\n",
       "      <td>0</td>\n",
       "      <td>ctown</td>\n",
       "      <td>master</td>\n",
       "      <td>5.0</td>\n",
       "      <td>binary</td>\n",
       "      <td>ms</td>\n",
       "      <td>1</td>\n",
       "      <td>gcn</td>\n",
       "      <td>0.999332</td>\n",
       "      <td>ctown-master-5-binary-ms-1_tst.csv</td>\n",
       "      <td>0.000043</td>\n",
       "      <td>0.008495</td>\n",
       "      <td>0.008044</td>\n",
       "      <td>0.008519</td>\n",
       "      <td>master-0</td>\n",
       "    </tr>\n",
       "    <tr>\n",
       "      <th>richmond-master-10-binary-ms-1-gcn</th>\n",
       "      <td>1148.633068</td>\n",
       "      <td>33.886460</td>\n",
       "      <td>33.914756</td>\n",
       "      <td>0</td>\n",
       "      <td>richmond</td>\n",
       "      <td>master</td>\n",
       "      <td>10.0</td>\n",
       "      <td>binary</td>\n",
       "      <td>ms</td>\n",
       "      <td>1</td>\n",
       "      <td>gcn</td>\n",
       "      <td>0.999462</td>\n",
       "      <td>richmond-master-10-binary-ms-1_tst.csv</td>\n",
       "      <td>0.000020</td>\n",
       "      <td>0.003933</td>\n",
       "      <td>0.004958</td>\n",
       "      <td>0.003919</td>\n",
       "      <td>master-0</td>\n",
       "    </tr>\n",
       "    <tr>\n",
       "      <th>anytown-dist-1-binary-ms-1-gcn</th>\n",
       "      <td>327.838056</td>\n",
       "      <td>18.174790</td>\n",
       "      <td>18.142374</td>\n",
       "      <td>0</td>\n",
       "      <td>anytown</td>\n",
       "      <td>dist</td>\n",
       "      <td>1.0</td>\n",
       "      <td>binary</td>\n",
       "      <td>ms</td>\n",
       "      <td>1</td>\n",
       "      <td>gcn</td>\n",
       "      <td>0.994251</td>\n",
       "      <td>anytown-dist-1-binary-ms-1_tst.csv</td>\n",
       "      <td>0.000197</td>\n",
       "      <td>0.020378</td>\n",
       "      <td>0.018502</td>\n",
       "      <td>0.020795</td>\n",
       "      <td>dist-0</td>\n",
       "    </tr>\n",
       "    <tr>\n",
       "      <th>ctown-dist-5-binary-ms-1-gcn</th>\n",
       "      <td>1213.378997</td>\n",
       "      <td>34.831008</td>\n",
       "      <td>34.856233</td>\n",
       "      <td>0</td>\n",
       "      <td>ctown</td>\n",
       "      <td>dist</td>\n",
       "      <td>5.0</td>\n",
       "      <td>binary</td>\n",
       "      <td>ms</td>\n",
       "      <td>1</td>\n",
       "      <td>gcn</td>\n",
       "      <td>0.999424</td>\n",
       "      <td>ctown-dist-5-binary-ms-1_tst.csv</td>\n",
       "      <td>0.000037</td>\n",
       "      <td>0.007849</td>\n",
       "      <td>0.004591</td>\n",
       "      <td>0.008064</td>\n",
       "      <td>dist-0</td>\n",
       "    </tr>\n",
       "  </tbody>\n",
       "</table>\n",
       "</div>"
      ],
      "text/plain": [
       "                                           MSEc  sigma_pred  sigma_true  seed  \\\n",
       "run_id                                                                          \n",
       "anytown-master-1-binary-ms-1-gcn     313.845493   17.844183   18.142374     0   \n",
       "ctown-master-5-binary-ms-1-gcn      1211.081307   34.768258   34.856233     0   \n",
       "richmond-master-10-binary-ms-1-gcn  1148.633068   33.886460   33.914756     0   \n",
       "anytown-dist-1-binary-ms-1-gcn       327.838056   18.174790   18.142374     0   \n",
       "ctown-dist-5-binary-ms-1-gcn        1213.378997   34.831008   34.856233     0   \n",
       "\n",
       "                                         wds placement  obs_rat adjacency tag  \\\n",
       "run_id                                                                          \n",
       "anytown-master-1-binary-ms-1-gcn     anytown    master      1.0    binary  ms   \n",
       "ctown-master-5-binary-ms-1-gcn         ctown    master      5.0    binary  ms   \n",
       "richmond-master-10-binary-ms-1-gcn  richmond    master     10.0    binary  ms   \n",
       "anytown-dist-1-binary-ms-1-gcn       anytown      dist      1.0    binary  ms   \n",
       "ctown-dist-5-binary-ms-1-gcn           ctown      dist      5.0    binary  ms   \n",
       "\n",
       "                                    num model  corr_coeff  \\\n",
       "run_id                                                      \n",
       "anytown-master-1-binary-ms-1-gcn      1   gcn    0.969449   \n",
       "ctown-master-5-binary-ms-1-gcn        1   gcn    0.999332   \n",
       "richmond-master-10-binary-ms-1-gcn    1   gcn    0.999462   \n",
       "anytown-dist-1-binary-ms-1-gcn        1   gcn    0.994251   \n",
       "ctown-dist-5-binary-ms-1-gcn          1   gcn    0.999424   \n",
       "\n",
       "                                                                  test_csv  \\\n",
       "run_id                                                                       \n",
       "anytown-master-1-binary-ms-1-gcn      anytown-master-1-binary-ms-1_tst.csv   \n",
       "ctown-master-5-binary-ms-1-gcn          ctown-master-5-binary-ms-1_tst.csv   \n",
       "richmond-master-10-binary-ms-1-gcn  richmond-master-10-binary-ms-1_tst.csv   \n",
       "anytown-dist-1-binary-ms-1-gcn          anytown-dist-1-binary-ms-1_tst.csv   \n",
       "ctown-dist-5-binary-ms-1-gcn              ctown-dist-5-binary-ms-1_tst.csv   \n",
       "\n",
       "                                    tst_loss  tst_rel_err  tst_rel_err_o  \\\n",
       "run_id                                                                     \n",
       "anytown-master-1-binary-ms-1-gcn    0.001033     0.047284       0.018305   \n",
       "ctown-master-5-binary-ms-1-gcn      0.000043     0.008495       0.008044   \n",
       "richmond-master-10-binary-ms-1-gcn  0.000020     0.003933       0.004958   \n",
       "anytown-dist-1-binary-ms-1-gcn      0.000197     0.020378       0.018502   \n",
       "ctown-dist-5-binary-ms-1-gcn        0.000037     0.007849       0.004591   \n",
       "\n",
       "                                    tst_rel_err_h   plaseed  \n",
       "run_id                                                       \n",
       "anytown-master-1-binary-ms-1-gcn         0.051860  master-0  \n",
       "ctown-master-5-binary-ms-1-gcn           0.008519  master-0  \n",
       "richmond-master-10-binary-ms-1-gcn       0.003919  master-0  \n",
       "anytown-dist-1-binary-ms-1-gcn           0.020795    dist-0  \n",
       "ctown-dist-5-binary-ms-1-gcn             0.008064    dist-0  "
      ]
     },
     "execution_count": 11,
     "metadata": {},
     "output_type": "execute_result"
    }
   ],
   "source": [
    "df.head()"
   ]
  },
  {
   "cell_type": "markdown",
   "id": "a745ba06",
   "metadata": {},
   "source": [
    "# Barplot\n",
    "### Anytown"
   ]
  },
  {
   "cell_type": "code",
   "execution_count": 12,
   "id": "d3af449b",
   "metadata": {},
   "outputs": [
    {
     "data": {
      "text/plain": [
       "<AxesSubplot:xlabel='placement', ylabel='tst_rel_err_h'>"
      ]
     },
     "execution_count": 12,
     "metadata": {},
     "output_type": "execute_result"
    },
    {
     "data": {
      "image/png": "[encoded data removed]",
      "text/plain": [
       "<Figure size 1080x648 with 1 Axes>"
      ]
     },
     "metadata": {},
     "output_type": "display_data"
    }
   ],
   "source": [
    "subdf = df[(df['wds'] == 'anytown')]# & (df['placement'] != 'random')]\n",
    "sns.set(rc={'figure.figsize':(15,9)})\n",
    "sns.barplot(data=subdf, x='placement', y='tst_rel_err_h')"
   ]
  },
  {
   "cell_type": "markdown",
   "id": "c85a1750",
   "metadata": {},
   "source": [
    "### C-Town"
   ]
  },
  {
   "cell_type": "code",
   "execution_count": 13,
   "id": "f31a4e02",
   "metadata": {},
   "outputs": [
    {
     "data": {
      "text/plain": [
       "<AxesSubplot:xlabel='placement', ylabel='tst_rel_err_h'>"
      ]
     },
     "execution_count": 13,
     "metadata": {},
     "output_type": "execute_result"
    },
    {
     "data": {
      "image/png": "[encoded data removed]",
      "text/plain": [
       "<Figure size 1080x648 with 1 Axes>"
      ]
     },
     "metadata": {},
     "output_type": "display_data"
    }
   ],
   "source": [
    "subdf = df[(df['wds'] == 'ctown')]# & (df['placement'] != 'random')]\n",
    "sns.set(rc={'figure.figsize':(15,9)})\n",
    "sns.barplot(data=subdf, x='placement', y='tst_rel_err_h')"
   ]
  },
  {
   "cell_type": "markdown",
   "id": "69aef883",
   "metadata": {},
   "source": [
    "### Richmond"
   ]
  },
  {
   "cell_type": "code",
   "execution_count": 14,
   "id": "93f81a14",
   "metadata": {},
   "outputs": [
    {
     "data": {
      "text/plain": [
       "<AxesSubplot:xlabel='placement', ylabel='tst_rel_err_h'>"
      ]
     },
     "execution_count": 14,
     "metadata": {},
     "output_type": "execute_result"
    },
    {
     "data": {
      "image/png": "[encoded data removed]",
      "text/plain": [
       "<Figure size 1080x648 with 1 Axes>"
      ]
     },
     "metadata": {},
     "output_type": "display_data"
    }
   ],
   "source": [
    "subdf = df[(df['wds'] == 'richmond')]# & (df['placement'] != 'random')]\n",
    "sns.set(rc={'figure.figsize':(15,9)})\n",
    "sns.barplot(data=subdf, x='placement', y='tst_rel_err_h')"
   ]
  }
 ],
 "metadata": {
  "kernelspec": {
   "display_name": "Python 3 (ipykernel)",
   "language": "python",
   "name": "python3"
  },
  "language_info": {
   "codemirror_mode": {
    "name": "ipython",
    "version": 3
   },
   "file_extension": ".py",
   "mimetype": "text/x-python",
   "name": "python",
   "nbconvert_exporter": "python",
   "pygments_lexer": "ipython3",
   "version": "3.9.7"
  }
 },
 "nbformat": 4,
 "nbformat_minor": 5
}
