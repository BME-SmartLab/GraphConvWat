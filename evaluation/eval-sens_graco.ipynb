{
 "cells": [
  {
   "cell_type": "code",
   "execution_count": 1,
   "id": "3ceb919c",
   "metadata": {},
   "outputs": [],
   "source": [
    "import os\n",
    "import numpy as np\n",
    "import pandas as pd\n",
    "import matplotlib.pyplot as plt\n",
    "import seaborn as sns"
   ]
  },
  {
   "cell_type": "code",
   "execution_count": 2,
   "id": "a7e45d22",
   "metadata": {},
   "outputs": [],
   "source": [
    "path_to_csv = os.path.join('..', 'experiments', 'Taylor_metrics_processed.csv')"
   ]
  },
  {
   "cell_type": "code",
   "execution_count": 3,
   "id": "7fbb0e2e",
   "metadata": {},
   "outputs": [],
   "source": [
    "df = pd.read_csv(path_to_csv, index_col=0)"
   ]
  },
  {
   "cell_type": "code",
   "execution_count": 4,
   "id": "fcc21487",
   "metadata": {},
   "outputs": [
    {
     "data": {
      "text/html": [
       "<div>\n",
       "<style scoped>\n",
       "    .dataframe tbody tr th:only-of-type {\n",
       "        vertical-align: middle;\n",
       "    }\n",
       "\n",
       "    .dataframe tbody tr th {\n",
       "        vertical-align: top;\n",
       "    }\n",
       "\n",
       "    .dataframe thead th {\n",
       "        text-align: right;\n",
       "    }\n",
       "</style>\n",
       "<table border=\"1\" class=\"dataframe\">\n",
       "  <thead>\n",
       "    <tr style=\"text-align: right;\">\n",
       "      <th></th>\n",
       "      <th>run_id</th>\n",
       "      <th>MSEc</th>\n",
       "      <th>sigma_pred</th>\n",
       "      <th>sigma_true</th>\n",
       "      <th>seed</th>\n",
       "      <th>wds</th>\n",
       "      <th>placement</th>\n",
       "      <th>obs_rat</th>\n",
       "      <th>adjacency</th>\n",
       "      <th>tag</th>\n",
       "      <th>num</th>\n",
       "      <th>model</th>\n",
       "      <th>corr_coeff</th>\n",
       "    </tr>\n",
       "  </thead>\n",
       "  <tbody>\n",
       "    <tr>\n",
       "      <th>0</th>\n",
       "      <td>anytown-fixrnd-0.05-binary-def-1-orig</td>\n",
       "      <td>329.145719</td>\n",
       "      <td>18.142374</td>\n",
       "      <td>18.142374</td>\n",
       "      <td>0</td>\n",
       "      <td>anytown</td>\n",
       "      <td>fixrnd</td>\n",
       "      <td>0.05</td>\n",
       "      <td>binary</td>\n",
       "      <td>def</td>\n",
       "      <td>1</td>\n",
       "      <td>orig</td>\n",
       "      <td>1.000000</td>\n",
       "    </tr>\n",
       "    <tr>\n",
       "      <th>1</th>\n",
       "      <td>anytown-fixrnd-0.05-binary-def-1-gcn</td>\n",
       "      <td>305.902143</td>\n",
       "      <td>17.431887</td>\n",
       "      <td>18.142374</td>\n",
       "      <td>0</td>\n",
       "      <td>anytown</td>\n",
       "      <td>fixrnd</td>\n",
       "      <td>0.05</td>\n",
       "      <td>binary</td>\n",
       "      <td>def</td>\n",
       "      <td>1</td>\n",
       "      <td>gcn</td>\n",
       "      <td>0.967262</td>\n",
       "    </tr>\n",
       "    <tr>\n",
       "      <th>2</th>\n",
       "      <td>anytown-fixrnd-0.05-binary-def-2-gcn</td>\n",
       "      <td>289.265015</td>\n",
       "      <td>16.723429</td>\n",
       "      <td>18.142374</td>\n",
       "      <td>0</td>\n",
       "      <td>anytown</td>\n",
       "      <td>fixrnd</td>\n",
       "      <td>0.05</td>\n",
       "      <td>binary</td>\n",
       "      <td>def</td>\n",
       "      <td>2</td>\n",
       "      <td>gcn</td>\n",
       "      <td>0.953403</td>\n",
       "    </tr>\n",
       "    <tr>\n",
       "      <th>3</th>\n",
       "      <td>anytown-fixrnd-0.05-binary-def-3-gcn</td>\n",
       "      <td>274.175302</td>\n",
       "      <td>16.311682</td>\n",
       "      <td>18.142374</td>\n",
       "      <td>0</td>\n",
       "      <td>anytown</td>\n",
       "      <td>fixrnd</td>\n",
       "      <td>0.05</td>\n",
       "      <td>binary</td>\n",
       "      <td>def</td>\n",
       "      <td>3</td>\n",
       "      <td>gcn</td>\n",
       "      <td>0.926479</td>\n",
       "    </tr>\n",
       "    <tr>\n",
       "      <th>4</th>\n",
       "      <td>anytown-fixrnd-0.05-binary-def-4-gcn</td>\n",
       "      <td>277.586525</td>\n",
       "      <td>16.270504</td>\n",
       "      <td>18.142374</td>\n",
       "      <td>0</td>\n",
       "      <td>anytown</td>\n",
       "      <td>fixrnd</td>\n",
       "      <td>0.05</td>\n",
       "      <td>binary</td>\n",
       "      <td>def</td>\n",
       "      <td>4</td>\n",
       "      <td>gcn</td>\n",
       "      <td>0.940380</td>\n",
       "    </tr>\n",
       "  </tbody>\n",
       "</table>\n",
       "</div>"
      ],
      "text/plain": [
       "                                  run_id        MSEc  sigma_pred  sigma_true  \\\n",
       "0  anytown-fixrnd-0.05-binary-def-1-orig  329.145719   18.142374   18.142374   \n",
       "1   anytown-fixrnd-0.05-binary-def-1-gcn  305.902143   17.431887   18.142374   \n",
       "2   anytown-fixrnd-0.05-binary-def-2-gcn  289.265015   16.723429   18.142374   \n",
       "3   anytown-fixrnd-0.05-binary-def-3-gcn  274.175302   16.311682   18.142374   \n",
       "4   anytown-fixrnd-0.05-binary-def-4-gcn  277.586525   16.270504   18.142374   \n",
       "\n",
       "   seed      wds placement  obs_rat adjacency  tag  num model  corr_coeff  \n",
       "0     0  anytown    fixrnd     0.05    binary  def    1  orig    1.000000  \n",
       "1     0  anytown    fixrnd     0.05    binary  def    1   gcn    0.967262  \n",
       "2     0  anytown    fixrnd     0.05    binary  def    2   gcn    0.953403  \n",
       "3     0  anytown    fixrnd     0.05    binary  def    3   gcn    0.926479  \n",
       "4     0  anytown    fixrnd     0.05    binary  def    4   gcn    0.940380  "
      ]
     },
     "execution_count": 4,
     "metadata": {},
     "output_type": "execute_result"
    }
   ],
   "source": [
    "df.head()"
   ]
  },
  {
   "cell_type": "markdown",
   "id": "b9f65833",
   "metadata": {},
   "source": [
    "# Preprocessing"
   ]
  },
  {
   "cell_type": "code",
   "execution_count": 5,
   "id": "4dae4951",
   "metadata": {},
   "outputs": [],
   "source": [
    "df = df[~df['run_id'].str.contains('fixrnd')] # dropping old results\n",
    "df['test_csv'] = df['run_id']\n",
    "df['test_csv'] = df['test_csv'].apply(lambda fn: fn[:-4]+'_tst.csv')"
   ]
  },
  {
   "cell_type": "markdown",
   "id": "4fb6cfbc",
   "metadata": {},
   "source": [
    "# Loading test results"
   ]
  },
  {
   "cell_type": "code",
   "execution_count": 6,
   "id": "40335881",
   "metadata": {},
   "outputs": [],
   "source": [
    "def read_test_result(fn):\n",
    "    path_to_res = os.path.join('..', 'experiments', 'logs', fn)\n",
    "    res_df = pd.read_csv(path_to_res, header=None, index_col=None, skiprows=1)\n",
    "    res_dict = dict()\n",
    "    for i in range(len(res_df)):\n",
    "        res_dict[res_df.iloc[i][0]] = res_df.iloc[i][1]\n",
    "    return res_dict"
   ]
  },
  {
   "cell_type": "code",
   "execution_count": 7,
   "id": "91eccc23",
   "metadata": {},
   "outputs": [],
   "source": [
    "tempo_df = pd.DataFrame([read_test_result(fn) for fn in df['test_csv']], index=df['run_id'])\n",
    "df.set_index('run_id', inplace=True)\n",
    "df = df.join(tempo_df)"
   ]
  },
  {
   "cell_type": "markdown",
   "id": "80a18e0d",
   "metadata": {},
   "source": [
    "# Unique algo ids"
   ]
  },
  {
   "cell_type": "code",
   "execution_count": 8,
   "id": "8dedbbe8",
   "metadata": {},
   "outputs": [],
   "source": [
    "ids = df.index.tolist()\n",
    "algos = set()\n",
    "for elem in ids:\n",
    "    algos.add(elem.split('-')[1])"
   ]
  },
  {
   "cell_type": "code",
   "execution_count": 9,
   "id": "a08d3280",
   "metadata": {},
   "outputs": [
    {
     "name": "stdout",
     "output_type": "stream",
     "text": [
      "{'hds', 'hdvar', 'dist', 'random', 'hydrodist', 'xrandom', 'master'}\n"
     ]
    }
   ],
   "source": [
    "print(algos)"
   ]
  },
  {
   "cell_type": "markdown",
   "id": "c19ce887",
   "metadata": {},
   "source": [
    "* master: entry nodes of tanks and reservoirs.\n",
    "* random: nodes selected according to the uniform random distribution. Budget is the sum of the num. of master nodes and the original budget.\n",
    "* xrandom: master + nodes selected according to the uniform random distribution.\n",
    "* dist: shortest path weighted with pipe length.\n",
    "* hydrodist: shortest path weighted with hydraulic distance.\n",
    "* hdvar: shortest path weighted with nodal head variation.\n",
    "* hds: shortest path weighted with nodal sensitivity."
   ]
  },
  {
   "cell_type": "markdown",
   "id": "a745ba06",
   "metadata": {},
   "source": [
    "# Barplots"
   ]
  },
  {
   "cell_type": "code",
   "execution_count": 10,
   "id": "90446738",
   "metadata": {},
   "outputs": [],
   "source": [
    "def get_subdf(df, wds):\n",
    "    subdf = df[(df['wds'] == wds) & (df['placement'] != 'random')]\n",
    "    subdf = subdf.drop(\n",
    "        ['wds', 'num', 'model',\n",
    "         'MSEc', 'sigma_pred', 'sigma_true', 'seed', 'obs_rat', 'adjacency', 'tag', 'corr_coeff', 'test_csv'],\n",
    "        axis = 1\n",
    "    )\n",
    "    dfs = []\n",
    "    data = {'nodes': [], 'relative error': [], 'placement': []}\n",
    "    for i in range(len(subdf)):\n",
    "        row = subdf.iloc[i]\n",
    "        data['nodes'].extend(['all', 'observed', 'unobserved'])\n",
    "        data['relative error'].extend([row['tst_rel_err'], row['tst_rel_err_o'], row['tst_rel_err_h']])\n",
    "        data['placement'].extend([row['placement']]*3)\n",
    "    return pd.DataFrame(data=data)"
   ]
  },
  {
   "cell_type": "markdown",
   "id": "101ff270",
   "metadata": {},
   "source": [
    "### Anytown"
   ]
  },
  {
   "cell_type": "code",
   "execution_count": 11,
   "id": "ccb16022",
   "metadata": {},
   "outputs": [],
   "source": [
    "subdf = get_subdf(df, 'anytown')"
   ]
  },
  {
   "cell_type": "code",
   "execution_count": 12,
   "id": "d3af449b",
   "metadata": {},
   "outputs": [
    {
     "data": {
      "image/png": "[encoded data removed]",
      "text/plain": [
       "<Figure size 1080x648 with 1 Axes>"
      ]
     },
     "metadata": {},
     "output_type": "display_data"
    }
   ],
   "source": [
    "sns.set(rc={'figure.figsize':(15,9)})\n",
    "bar = sns.barplot(data=subdf, x='placement', y='relative error', hue='nodes')\n",
    "\n",
    "# hatches = ['-', '+', 'x', '\\\\', '*', 'o']\n",
    "\n",
    "# # Loop over the bars\n",
    "# for i,thisbar in enumerate(bar.patches):\n",
    "#     # Set a different hatch for each bar\n",
    "#     thisbar.set_hatch(hatches[i])\n",
    "\n",
    "plt.show()"
   ]
  }
 ],
 "metadata": {
  "kernelspec": {
   "display_name": "Python 3 (ipykernel)",
   "language": "python",
   "name": "python3"
  },
  "language_info": {
   "codemirror_mode": {
    "name": "ipython",
    "version": 3
   },
   "file_extension": ".py",
   "mimetype": "text/x-python",
   "name": "python",
   "nbconvert_exporter": "python",
   "pygments_lexer": "ipython3",
   "version": "3.9.7"
  }
 },
 "nbformat": 4,
 "nbformat_minor": 5
}
