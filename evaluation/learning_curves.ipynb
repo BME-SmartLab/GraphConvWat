{
 "cells": [
  {
   "cell_type": "code",
   "execution_count": null,
   "id": "welsh-madrid",
   "metadata": {},
   "outputs": [],
   "source": [
    "import os\n",
    "import glob\n",
    "import pandas as pd\n",
    "import plotly.express as px\n",
    "import panel as pn\n",
    "import param\n",
    "pn.extension('plotly')"
   ]
  },
  {
   "cell_type": "code",
   "execution_count": null,
   "id": "british-wonder",
   "metadata": {},
   "outputs": [],
   "source": [
    "path_to_logs= os.path.join('..', 'experiments', 'logs') \n",
    "filenames = [\n",
    "    os.path.split(f)[-1]  \n",
    "    for f in glob.glob(os.path.join(path_to_logs, '*.csv'))                        \n",
    "    if (\"tst\" not in f)                                                            \n",
    "    ]   \n",
    "filenames.sort()"
   ]
  },
  {
   "cell_type": "code",
   "execution_count": null,
   "id": "encouraging-transformation",
   "metadata": {},
   "outputs": [],
   "source": [
    "def get_wds_names():    \n",
    "    wds_names   = set() \n",
    "    for fn in filenames:\n",
    "        wds_names.add(fn.split('-')[0])                                            \n",
    "    return wds_names\n",
    "\n",
    "def load_wds_results(filenames):\n",
    "    log_dict = dict()   \n",
    "    for fn in filenames:\n",
    "        df = pd.read_csv(os.path.join(path_to_logs, fn), index_col=0)\n",
    "        log_dict[fn[:-4]] = df                                  \n",
    "    return log_dict\n",
    "\n",
    "def plot_training_curve(run_id):\n",
    "    df = log_dict[run_id]\n",
    "    fig = px.scatter(df, y=['trn_loss', 'vld_loss'], log_y=True)\n",
    "    return fig"
   ]
  },
  {
   "cell_type": "code",
   "execution_count": null,
   "id": "tribal-swaziland",
   "metadata": {},
   "outputs": [],
   "source": [
    "log_dict = load_wds_results(filenames) "
   ]
  },
  {
   "cell_type": "code",
   "execution_count": null,
   "id": "excessive-diana",
   "metadata": {},
   "outputs": [],
   "source": [
    "kw = dict(run_id=sorted(list(log_dict.keys())))\n",
    "i = pn.interact(plot_training_curve, **kw)\n",
    "i.pprint()"
   ]
  },
  {
   "cell_type": "code",
   "execution_count": null,
   "id": "proprietary-vermont",
   "metadata": {},
   "outputs": [],
   "source": [
    "p = pn.Column(i[0][0], i[1][0])"
   ]
  },
  {
   "cell_type": "code",
   "execution_count": null,
   "id": "promising-balloon",
   "metadata": {},
   "outputs": [],
   "source": [
    "p"
   ]
  },
  {
   "cell_type": "code",
   "execution_count": null,
   "id": "talented-traffic",
   "metadata": {},
   "outputs": [],
   "source": []
  }
 ],
 "metadata": {
  "kernelspec": {
   "display_name": "Python 3",
   "language": "python",
   "name": "python3"
  },
  "language_info": {
   "codemirror_mode": {
    "name": "ipython",
    "version": 3
   },
   "file_extension": ".py",
   "mimetype": "text/x-python",
   "name": "python",
   "nbconvert_exporter": "python",
   "pygments_lexer": "ipython3",
   "version": "3.8.8"
  }
 },
 "nbformat": 4,
 "nbformat_minor": 5
}
