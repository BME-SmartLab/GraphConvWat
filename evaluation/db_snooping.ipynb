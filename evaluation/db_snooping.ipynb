{
 "cells": [
  {
   "cell_type": "code",
   "execution_count": null,
   "metadata": {},
   "outputs": [],
   "source": [
    "import os\n",
    "from scipy import stats\n",
    "import dask.array as da\n",
    "import zarr\n",
    "import matplotlib.pyplot as plt\n",
    "\n",
    "from tensorflow import math\n",
    "os.environ[\"CUDA_VISIBLE_DEVICES\"] = \"-1\""
   ]
  },
  {
   "cell_type": "code",
   "execution_count": null,
   "metadata": {},
   "outputs": [],
   "source": [
    "!ls ../data"
   ]
  },
  {
   "cell_type": "code",
   "execution_count": null,
   "metadata": {},
   "outputs": [],
   "source": [
    "store = zarr.open('../data/db_richmond_doe_pumpfed_1', mode='r')\n",
    "store.info"
   ]
  },
  {
   "cell_type": "code",
   "execution_count": null,
   "metadata": {},
   "outputs": [],
   "source": [
    "class ReconstructionLoss():\n",
    "    def __init__(self, var_range, var_min):\n",
    "        self.range  = var_range\n",
    "        self.min    = var_min\n",
    "\n",
    "    def _difference(self, y_true, y_pred):\n",
    "        return math.subtract(y_true, y_pred)\n",
    "\n",
    "    def _rescale(self, data):\n",
    "        return math.add(\n",
    "                math.multiply(\n",
    "                    data,\n",
    "                    self.range\n",
    "                    ),\n",
    "                self.min\n",
    "                )\n",
    "\n",
    "    def absolute_error(self, y_true, y_pred):\n",
    "        abs_err = math.abs(\n",
    "                    math.subtract(\n",
    "                        #self._rescale(y_true),\n",
    "                        y_true,\n",
    "                        self._rescale(y_pred)\n",
    "                        )\n",
    "                    )\n",
    "        return math.reduce_mean(abs_err, axis=None)\n",
    "\n",
    "    def relative_error(self, y_true, y_pred):\n",
    "        #y_true  = self._rescale(y_true)\n",
    "        y_pred  = self._rescale(y_pred)\n",
    "        err     = self._difference(y_true, y_pred)\n",
    "        rel_err = math.abs(math.divide_no_nan(err, y_true))\n",
    "        return math.reduce_mean(rel_err, axis=None)"
   ]
  },
  {
   "cell_type": "code",
   "execution_count": null,
   "metadata": {},
   "outputs": [],
   "source": [
    "junc_dmds = da.from_zarr(url=store['trn']['x']['junc_demands'])\n",
    "pflows = da.from_zarr(url=store['trn']['y']['pump_flows'])\n",
    "tflows = da.from_zarr(url=store['trn']['y']['tank_flows'])\n",
    "junc_heads = da.from_zarr(url=store['trn']['y']['junc_heads'])\n",
    "\n",
    "dmd_avg = store['trn']['x']['junc_demands'].attrs['avg']\n",
    "dmd_std = store['trn']['x']['junc_demands'].attrs['std']\n",
    "pflows_min = store['trn']['y']['pump_flows'].attrs['min']\n",
    "pflows_range = store['trn']['y']['pump_flows'].attrs['range']\n",
    "tflows_min = store['trn']['y']['tank_flows'].attrs['min']\n",
    "tflows_range = store['trn']['y']['tank_flows'].attrs['range']\n",
    "head_min = store['trn']['y']['junc_heads'].attrs['min']\n",
    "head_range = store['trn']['y']['junc_heads'].attrs['range']"
   ]
  },
  {
   "cell_type": "code",
   "execution_count": null,
   "metadata": {},
   "outputs": [],
   "source": [
    "pflow_losses = ReconstructionLoss(pflows_range, pflows_min)\n",
    "tflow_losses = ReconstructionLoss(tflows_range, tflows_min)\n",
    "head_losses = ReconstructionLoss(head_range, head_min)"
   ]
  },
  {
   "cell_type": "code",
   "execution_count": null,
   "metadata": {},
   "outputs": [],
   "source": [
    "junc_dmds_rescaled = junc_dmds * dmd_std + dmd_avg\n",
    "pflows_rescaled = pflows * pflows_range + pflows_min\n",
    "tflows_rescaled = tflows * tflows_range + tflows_min\n",
    "junc_heads_rescaled = junc_heads * head_range + head_min"
   ]
  },
  {
   "cell_type": "code",
   "execution_count": null,
   "metadata": {},
   "outputs": [],
   "source": [
    "junc_dmds"
   ]
  },
  {
   "cell_type": "code",
   "execution_count": null,
   "metadata": {},
   "outputs": [],
   "source": [
    "pflows"
   ]
  },
  {
   "cell_type": "code",
   "execution_count": null,
   "metadata": {},
   "outputs": [],
   "source": [
    "tflows"
   ]
  },
  {
   "cell_type": "code",
   "execution_count": null,
   "metadata": {},
   "outputs": [],
   "source": [
    "junc_demands_avg = junc_dmds_rescaled.sum(axis=1).mean().compute()\n",
    "pump_flows_avg = pflows_rescaled.sum(axis=1).mean().compute()\n",
    "tank_flows_avg = tflows_rescaled.sum(axis=1).mean().compute()\n",
    "junc_heads_avg = junc_heads_rescaled.mean().compute()\n",
    "\n",
    "print('Átlagos fogyasztás: {:.1f} m**3/h.'.format(junc_demands_avg))\n",
    "print('Átlagos szivattyú betáp: {:.1f} m**3/h -- {:.2f} %.'.format(\n",
    "    pump_flows_avg, pump_flows_avg/junc_demands_avg*100))\n",
    "print('Átlagos medence betáp: {:.1f} m**3/h. -- {:.2f} %.'.format(\n",
    "    tank_flows_avg, tank_flows_avg/junc_demands_avg*100))\n",
    "print('Átlagos csomóponti nyomás {:.1f} m.'.format(junc_heads_avg))"
   ]
  },
  {
   "cell_type": "code",
   "execution_count": null,
   "metadata": {},
   "outputs": [],
   "source": [
    "plt.plot(junc_dmds_rescaled[:,0], junc_heads_rescaled[:,8], 'k+')\n",
    "plt.xlabel('Fogyasztás, m**3/h')\n",
    "plt.ylabel('Nyomás, m')"
   ]
  },
  {
   "cell_type": "code",
   "execution_count": null,
   "metadata": {},
   "outputs": [],
   "source": [
    "head_losses.absolute_error(junc_heads_rescaled, junc_heads).numpy()"
   ]
  },
  {
   "cell_type": "code",
   "execution_count": null,
   "metadata": {},
   "outputs": [],
   "source": [
    "junc_heads_rescaled.std().compute()"
   ]
  },
  {
   "cell_type": "code",
   "execution_count": null,
   "metadata": {},
   "outputs": [],
   "source": [
    "print(junc_heads_rescaled.min().compute())\n",
    "print(junc_heads_rescaled.max().compute())"
   ]
  },
  {
   "cell_type": "code",
   "execution_count": null,
   "metadata": {},
   "outputs": [],
   "source": [
    "stats.normaltest(junc_heads_rescaled, axis=None)"
   ]
  },
  {
   "cell_type": "code",
   "execution_count": null,
   "metadata": {},
   "outputs": [],
   "source": [
    "#plt.hist(junc_heads)"
   ]
  },
  {
   "cell_type": "code",
   "execution_count": null,
   "metadata": {},
   "outputs": [],
   "source": []
  }
 ],
 "metadata": {
  "kernelspec": {
   "display_name": "Python 3",
   "language": "python",
   "name": "python3"
  },
  "language_info": {
   "codemirror_mode": {
    "name": "ipython",
    "version": 3
   },
   "file_extension": ".py",
   "mimetype": "text/x-python",
   "name": "python",
   "nbconvert_exporter": "python",
   "pygments_lexer": "ipython3",
   "version": "3.8.8"
  }
 },
 "nbformat": 4,
 "nbformat_minor": 4
}
