{
 "cells": [
  {
   "cell_type": "code",
   "execution_count": 1,
   "metadata": {},
   "outputs": [],
   "source": [
    "import os\n",
    "from scipy import stats\n",
    "import dask.array as da\n",
    "import zarr\n",
    "import matplotlib.pyplot as plt\n",
    "\n",
    "from tensorflow import math\n",
    "os.environ[\"CUDA_VISIBLE_DEVICES\"] = \"-1\""
   ]
  },
  {
   "cell_type": "code",
   "execution_count": 2,
   "metadata": {},
   "outputs": [
    {
     "name": "stdout",
     "output_type": "stream",
     "text": [
      "db_anytown_doe_pumpfed_1  db_ctown_doe_pumpfed_1  db_richmond_doe_pumpfed_1\r\n"
     ]
    }
   ],
   "source": [
    "!ls ../data"
   ]
  },
  {
   "cell_type": "code",
   "execution_count": 3,
   "metadata": {},
   "outputs": [
    {
     "data": {
      "text/html": [
       "<table class=\"zarr-info\"><tbody><tr><th style=\"text-align: left\">Name</th><td style=\"text-align: left\">/</td></tr><tr><th style=\"text-align: left\">Type</th><td style=\"text-align: left\">zarr.hierarchy.Group</td></tr><tr><th style=\"text-align: left\">Read-only</th><td style=\"text-align: left\">True</td></tr><tr><th style=\"text-align: left\">Store type</th><td style=\"text-align: left\">zarr.storage.DirectoryStore</td></tr><tr><th style=\"text-align: left\">No. members</th><td style=\"text-align: left\">3</td></tr><tr><th style=\"text-align: left\">No. arrays</th><td style=\"text-align: left\">0</td></tr><tr><th style=\"text-align: left\">No. groups</th><td style=\"text-align: left\">3</td></tr><tr><th style=\"text-align: left\">Groups</th><td style=\"text-align: left\">trn, tst, vld</td></tr></tbody></table>"
      ],
      "text/plain": [
       "Name        : /\n",
       "Type        : zarr.hierarchy.Group\n",
       "Read-only   : True\n",
       "Store type  : zarr.storage.DirectoryStore\n",
       "No. members : 3\n",
       "No. arrays  : 0\n",
       "No. groups  : 3\n",
       "Groups      : trn, tst, vld"
      ]
     },
     "execution_count": 3,
     "metadata": {},
     "output_type": "execute_result"
    }
   ],
   "source": [
    "store = zarr.open('../data/db_richmond_doe_pumpfed_1', mode='r')\n",
    "store.info"
   ]
  },
  {
   "cell_type": "code",
   "execution_count": 4,
   "metadata": {},
   "outputs": [],
   "source": [
    "class ReconstructionLoss():\n",
    "    def __init__(self, var_range, var_min):\n",
    "        self.range  = var_range\n",
    "        self.min    = var_min\n",
    "\n",
    "    def _difference(self, y_true, y_pred):\n",
    "        return math.subtract(y_true, y_pred)\n",
    "\n",
    "    def _rescale(self, data):\n",
    "        return math.add(\n",
    "                math.multiply(\n",
    "                    data,\n",
    "                    self.range\n",
    "                    ),\n",
    "                self.min\n",
    "                )\n",
    "\n",
    "    def absolute_error(self, y_true, y_pred):\n",
    "        abs_err = math.abs(\n",
    "                    math.subtract(\n",
    "                        #self._rescale(y_true),\n",
    "                        y_true,\n",
    "                        self._rescale(y_pred)\n",
    "                        )\n",
    "                    )\n",
    "        return math.reduce_mean(abs_err, axis=None)\n",
    "\n",
    "    def relative_error(self, y_true, y_pred):\n",
    "        #y_true  = self._rescale(y_true)\n",
    "        y_pred  = self._rescale(y_pred)\n",
    "        err     = self._difference(y_true, y_pred)\n",
    "        rel_err = math.abs(math.divide_no_nan(err, y_true))\n",
    "        return math.reduce_mean(rel_err, axis=None)"
   ]
  },
  {
   "cell_type": "code",
   "execution_count": 5,
   "metadata": {},
   "outputs": [],
   "source": [
    "junc_dmds = da.from_zarr(url=store['trn']['x']['junc_demands'])\n",
    "pflows = da.from_zarr(url=store['trn']['y']['pump_flows'])\n",
    "tflows = da.from_zarr(url=store['trn']['y']['tank_flows'])\n",
    "junc_heads = da.from_zarr(url=store['trn']['y']['junc_heads'])\n",
    "\n",
    "dmd_avg = store['trn']['x']['junc_demands'].attrs['avg']\n",
    "dmd_std = store['trn']['x']['junc_demands'].attrs['std']\n",
    "pflows_min = store['trn']['y']['pump_flows'].attrs['min']\n",
    "pflows_range = store['trn']['y']['pump_flows'].attrs['range']\n",
    "tflows_min = store['trn']['y']['tank_flows'].attrs['min']\n",
    "tflows_range = store['trn']['y']['tank_flows'].attrs['range']\n",
    "head_min = store['trn']['y']['junc_heads'].attrs['min']\n",
    "head_range = store['trn']['y']['junc_heads'].attrs['range']"
   ]
  },
  {
   "cell_type": "code",
   "execution_count": 6,
   "metadata": {},
   "outputs": [],
   "source": [
    "pflow_losses = ReconstructionLoss(pflows_range, pflows_min)\n",
    "tflow_losses = ReconstructionLoss(tflows_range, tflows_min)\n",
    "head_losses = ReconstructionLoss(head_range, head_min)"
   ]
  },
  {
   "cell_type": "code",
   "execution_count": 7,
   "metadata": {},
   "outputs": [],
   "source": [
    "junc_dmds_rescaled = junc_dmds * dmd_std + dmd_avg\n",
    "pflows_rescaled = pflows * pflows_range + pflows_min\n",
    "tflows_rescaled = tflows * tflows_range + tflows_min\n",
    "junc_heads_rescaled = junc_heads * head_range + head_min"
   ]
  },
  {
   "cell_type": "code",
   "execution_count": 8,
   "metadata": {},
   "outputs": [
    {
     "data": {
      "text/html": [
       "<table>\n",
       "<tr>\n",
       "<td>\n",
       "<table>\n",
       "  <thead>\n",
       "    <tr><td> </td><th> Array </th><th> Chunk </th></tr>\n",
       "  </thead>\n",
       "  <tbody>\n",
       "    <tr><th> Bytes </th><td> 41.51 MB </td> <td> 34.60 MB </td></tr>\n",
       "    <tr><th> Shape </th><td> (11998, 865) </td> <td> (10000, 865) </td></tr>\n",
       "    <tr><th> Count </th><td> 3 Tasks </td><td> 2 Chunks </td></tr>\n",
       "    <tr><th> Type </th><td> float32 </td><td> numpy.ndarray </td></tr>\n",
       "  </tbody>\n",
       "</table>\n",
       "</td>\n",
       "<td>\n",
       "<svg width=\"86\" height=\"170\" style=\"stroke:rgb(0,0,0);stroke-width:1\" >\n",
       "\n",
       "  <!-- Horizontal lines -->\n",
       "  <line x1=\"0\" y1=\"0\" x2=\"36\" y2=\"0\" style=\"stroke-width:2\" />\n",
       "  <line x1=\"0\" y1=\"100\" x2=\"36\" y2=\"100\" />\n",
       "  <line x1=\"0\" y1=\"120\" x2=\"36\" y2=\"120\" style=\"stroke-width:2\" />\n",
       "\n",
       "  <!-- Vertical lines -->\n",
       "  <line x1=\"0\" y1=\"0\" x2=\"0\" y2=\"120\" style=\"stroke-width:2\" />\n",
       "  <line x1=\"36\" y1=\"0\" x2=\"36\" y2=\"120\" style=\"stroke-width:2\" />\n",
       "\n",
       "  <!-- Colored Rectangle -->\n",
       "  <polygon points=\"0.0,0.0 36.71467980557203,0.0 36.71467980557203,120.0 0.0,120.0\" style=\"fill:#ECB172A0;stroke-width:0\"/>\n",
       "\n",
       "  <!-- Text -->\n",
       "  <text x=\"18.357340\" y=\"140.000000\" font-size=\"1.0rem\" font-weight=\"100\" text-anchor=\"middle\" >865</text>\n",
       "  <text x=\"56.714680\" y=\"60.000000\" font-size=\"1.0rem\" font-weight=\"100\" text-anchor=\"middle\" transform=\"rotate(-90,56.714680,60.000000)\">11998</text>\n",
       "</svg>\n",
       "</td>\n",
       "</tr>\n",
       "</table>"
      ],
      "text/plain": [
       "dask.array<from-zarr, shape=(11998, 865), dtype=float32, chunksize=(10000, 865), chunktype=numpy.ndarray>"
      ]
     },
     "execution_count": 8,
     "metadata": {},
     "output_type": "execute_result"
    }
   ],
   "source": [
    "junc_dmds"
   ]
  },
  {
   "cell_type": "code",
   "execution_count": 9,
   "metadata": {},
   "outputs": [
    {
     "data": {
      "text/html": [
       "<table>\n",
       "<tr>\n",
       "<td>\n",
       "<table>\n",
       "  <thead>\n",
       "    <tr><td> </td><th> Array </th><th> Chunk </th></tr>\n",
       "  </thead>\n",
       "  <tbody>\n",
       "    <tr><th> Bytes </th><td> 239.96 kB </td> <td> 200.00 kB </td></tr>\n",
       "    <tr><th> Shape </th><td> (11998, 5) </td> <td> (10000, 5) </td></tr>\n",
       "    <tr><th> Count </th><td> 3 Tasks </td><td> 2 Chunks </td></tr>\n",
       "    <tr><th> Type </th><td> float32 </td><td> numpy.ndarray </td></tr>\n",
       "  </tbody>\n",
       "</table>\n",
       "</td>\n",
       "<td>\n",
       "<svg width=\"75\" height=\"170\" style=\"stroke:rgb(0,0,0);stroke-width:1\" >\n",
       "\n",
       "  <!-- Horizontal lines -->\n",
       "  <line x1=\"0\" y1=\"0\" x2=\"25\" y2=\"0\" style=\"stroke-width:2\" />\n",
       "  <line x1=\"0\" y1=\"100\" x2=\"25\" y2=\"100\" />\n",
       "  <line x1=\"0\" y1=\"120\" x2=\"25\" y2=\"120\" style=\"stroke-width:2\" />\n",
       "\n",
       "  <!-- Vertical lines -->\n",
       "  <line x1=\"0\" y1=\"0\" x2=\"0\" y2=\"120\" style=\"stroke-width:2\" />\n",
       "  <line x1=\"25\" y1=\"0\" x2=\"25\" y2=\"120\" style=\"stroke-width:2\" />\n",
       "\n",
       "  <!-- Colored Rectangle -->\n",
       "  <polygon points=\"0.0,0.0 25.412616514582485,0.0 25.412616514582485,120.0 0.0,120.0\" style=\"fill:#ECB172A0;stroke-width:0\"/>\n",
       "\n",
       "  <!-- Text -->\n",
       "  <text x=\"12.706308\" y=\"140.000000\" font-size=\"1.0rem\" font-weight=\"100\" text-anchor=\"middle\" >5</text>\n",
       "  <text x=\"45.412617\" y=\"60.000000\" font-size=\"1.0rem\" font-weight=\"100\" text-anchor=\"middle\" transform=\"rotate(-90,45.412617,60.000000)\">11998</text>\n",
       "</svg>\n",
       "</td>\n",
       "</tr>\n",
       "</table>"
      ],
      "text/plain": [
       "dask.array<from-zarr, shape=(11998, 5), dtype=float32, chunksize=(10000, 5), chunktype=numpy.ndarray>"
      ]
     },
     "execution_count": 9,
     "metadata": {},
     "output_type": "execute_result"
    }
   ],
   "source": [
    "pflows"
   ]
  },
  {
   "cell_type": "code",
   "execution_count": 10,
   "metadata": {},
   "outputs": [
    {
     "data": {
      "text/html": [
       "<table>\n",
       "<tr>\n",
       "<td>\n",
       "<table>\n",
       "  <thead>\n",
       "    <tr><td> </td><th> Array </th><th> Chunk </th></tr>\n",
       "  </thead>\n",
       "  <tbody>\n",
       "    <tr><th> Bytes </th><td> 287.95 kB </td> <td> 240.00 kB </td></tr>\n",
       "    <tr><th> Shape </th><td> (11998, 6) </td> <td> (10000, 6) </td></tr>\n",
       "    <tr><th> Count </th><td> 3 Tasks </td><td> 2 Chunks </td></tr>\n",
       "    <tr><th> Type </th><td> float32 </td><td> numpy.ndarray </td></tr>\n",
       "  </tbody>\n",
       "</table>\n",
       "</td>\n",
       "<td>\n",
       "<svg width=\"75\" height=\"170\" style=\"stroke:rgb(0,0,0);stroke-width:1\" >\n",
       "\n",
       "  <!-- Horizontal lines -->\n",
       "  <line x1=\"0\" y1=\"0\" x2=\"25\" y2=\"0\" style=\"stroke-width:2\" />\n",
       "  <line x1=\"0\" y1=\"100\" x2=\"25\" y2=\"100\" />\n",
       "  <line x1=\"0\" y1=\"120\" x2=\"25\" y2=\"120\" style=\"stroke-width:2\" />\n",
       "\n",
       "  <!-- Vertical lines -->\n",
       "  <line x1=\"0\" y1=\"0\" x2=\"0\" y2=\"120\" style=\"stroke-width:2\" />\n",
       "  <line x1=\"25\" y1=\"0\" x2=\"25\" y2=\"120\" style=\"stroke-width:2\" />\n",
       "\n",
       "  <!-- Colored Rectangle -->\n",
       "  <polygon points=\"0.0,0.0 25.412616514582485,0.0 25.412616514582485,120.0 0.0,120.0\" style=\"fill:#ECB172A0;stroke-width:0\"/>\n",
       "\n",
       "  <!-- Text -->\n",
       "  <text x=\"12.706308\" y=\"140.000000\" font-size=\"1.0rem\" font-weight=\"100\" text-anchor=\"middle\" >6</text>\n",
       "  <text x=\"45.412617\" y=\"60.000000\" font-size=\"1.0rem\" font-weight=\"100\" text-anchor=\"middle\" transform=\"rotate(-90,45.412617,60.000000)\">11998</text>\n",
       "</svg>\n",
       "</td>\n",
       "</tr>\n",
       "</table>"
      ],
      "text/plain": [
       "dask.array<from-zarr, shape=(11998, 6), dtype=float32, chunksize=(10000, 6), chunktype=numpy.ndarray>"
      ]
     },
     "execution_count": 10,
     "metadata": {},
     "output_type": "execute_result"
    }
   ],
   "source": [
    "tflows"
   ]
  },
  {
   "cell_type": "code",
   "execution_count": 11,
   "metadata": {},
   "outputs": [
    {
     "name": "stdout",
     "output_type": "stream",
     "text": [
      "Átlagos fogyasztás: 10.5 m**3/h.\n",
      "Átlagos szivattyú betáp: 162.8 m**3/h -- 1555.09 %.\n",
      "Átlagos medence betáp: -52.6 m**3/h. -- -502.38 %.\n",
      "Átlagos csomóponti nyomás 213.8 m.\n"
     ]
    }
   ],
   "source": [
    "junc_demands_avg = junc_dmds_rescaled.sum(axis=1).mean().compute()\n",
    "pump_flows_avg = pflows_rescaled.sum(axis=1).mean().compute()\n",
    "tank_flows_avg = tflows_rescaled.sum(axis=1).mean().compute()\n",
    "junc_heads_avg = junc_heads_rescaled.mean().compute()\n",
    "\n",
    "print('Átlagos fogyasztás: {:.1f} m**3/h.'.format(junc_demands_avg))\n",
    "print('Átlagos szivattyú betáp: {:.1f} m**3/h -- {:.2f} %.'.format(\n",
    "    pump_flows_avg, pump_flows_avg/junc_demands_avg*100))\n",
    "print('Átlagos medence betáp: {:.1f} m**3/h. -- {:.2f} %.'.format(\n",
    "    tank_flows_avg, tank_flows_avg/junc_demands_avg*100))\n",
    "print('Átlagos csomóponti nyomás {:.1f} m.'.format(junc_heads_avg))"
   ]
  },
  {
   "cell_type": "code",
   "execution_count": 12,
   "metadata": {},
   "outputs": [
    {
     "data": {
      "text/plain": [
       "Text(0, 0.5, 'Nyomás, m')"
      ]
     },
     "execution_count": 12,
     "metadata": {},
     "output_type": "execute_result"
    },
    {
     "data": {
      "image/png": "[encoded data removed]",
      "text/plain": [
       "<Figure size 432x288 with 1 Axes>"
      ]
     },
     "metadata": {
      "needs_background": "light"
     },
     "output_type": "display_data"
    }
   ],
   "source": [
    "plt.plot(junc_dmds_rescaled[:,0], junc_heads_rescaled[:,8], 'k+')\n",
    "plt.xlabel('Fogyasztás, m**3/h')\n",
    "plt.ylabel('Nyomás, m')"
   ]
  },
  {
   "cell_type": "code",
   "execution_count": 13,
   "metadata": {},
   "outputs": [
    {
     "data": {
      "text/plain": [
       "0.0"
      ]
     },
     "execution_count": 13,
     "metadata": {},
     "output_type": "execute_result"
    }
   ],
   "source": [
    "head_losses.absolute_error(junc_heads_rescaled, junc_heads).numpy()"
   ]
  },
  {
   "cell_type": "code",
   "execution_count": 14,
   "metadata": {},
   "outputs": [
    {
     "data": {
      "text/plain": [
       "33.921467"
      ]
     },
     "execution_count": 14,
     "metadata": {},
     "output_type": "execute_result"
    }
   ],
   "source": [
    "junc_heads_rescaled.std().compute()"
   ]
  },
  {
   "cell_type": "code",
   "execution_count": 15,
   "metadata": {},
   "outputs": [
    {
     "name": "stdout",
     "output_type": "stream",
     "text": [
      "69.98088\n",
      "329.04767\n"
     ]
    }
   ],
   "source": [
    "print(junc_heads_rescaled.min().compute())\n",
    "print(junc_heads_rescaled.max().compute())"
   ]
  },
  {
   "cell_type": "code",
   "execution_count": 16,
   "metadata": {},
   "outputs": [
    {
     "data": {
      "text/plain": [
       "NormaltestResult(statistic=852453.8406157743, pvalue=0.0)"
      ]
     },
     "execution_count": 16,
     "metadata": {},
     "output_type": "execute_result"
    }
   ],
   "source": [
    "stats.normaltest(junc_heads_rescaled, axis=None)"
   ]
  },
  {
   "cell_type": "code",
   "execution_count": 17,
   "metadata": {},
   "outputs": [],
   "source": [
    "#plt.hist(junc_heads)"
   ]
  },
  {
   "cell_type": "code",
   "execution_count": null,
   "metadata": {},
   "outputs": [],
   "source": []
  }
 ],
 "metadata": {
  "kernelspec": {
   "display_name": "Python 3",
   "language": "python",
   "name": "python3"
  },
  "language_info": {
   "codemirror_mode": {
    "name": "ipython",
    "version": 3
   },
   "file_extension": ".py",
   "mimetype": "text/x-python",
   "name": "python",
   "nbconvert_exporter": "python",
   "pygments_lexer": "ipython3",
   "version": "3.7.8"
  }
 },
 "nbformat": 4,
 "nbformat_minor": 4
}
