{
 "cells": [
  {
   "cell_type": "code",
   "execution_count": null,
   "metadata": {},
   "outputs": [],
   "source": [
    "import numpy as np\n",
    "from epynet import Network\n",
    "from bokeh.plotting import figure, show\n",
    "from bokeh.transform import linear_cmap\n",
    "from bokeh.models import ColumnDataSource as cds\n",
    "from bokeh.models import ColorBar, LinearColorMapper, Button"
   ]
  },
  {
   "cell_type": "code",
   "execution_count": null,
   "metadata": {},
   "outputs": [],
   "source": [
    "wds = Network('../water_networks/ctown.inp')\n",
    "wds.solve()"
   ]
  },
  {
   "cell_type": "code",
   "execution_count": null,
   "metadata": {},
   "outputs": [],
   "source": [
    "junc_x = []\n",
    "junc_y = []\n",
    "junc_z = []\n",
    "for junc in wds.junctions:\n",
    "    junc_x.append(junc.coordinates[0])\n",
    "    junc_y.append(junc.coordinates[1])\n",
    "    junc_z.append(junc.elevation)"
   ]
  },
  {
   "cell_type": "code",
   "execution_count": null,
   "metadata": {},
   "outputs": [],
   "source": [
    "pipe_x = []\n",
    "pipe_y = []\n",
    "pipe_z = []\n",
    "for pipe in wds.pipes:\n",
    "    if (pipe.from_node.index in list(wds.junctions.index)) and (pipe.to_node.index in list(wds.junctions.index)):\n",
    "        pipe_x.append(pipe.from_node.coordinates[0])\n",
    "        pipe_x.append(pipe.to_node.coordinates[0])\n",
    "        pipe_x.append(float('nan'))\n",
    "\n",
    "        pipe_y.append(pipe.from_node.coordinates[1])\n",
    "        pipe_y.append(pipe.to_node.coordinates[1])\n",
    "        pipe_y.append(float('nan'))\n",
    "\n",
    "        pipe_z.append(pipe.from_node.elevation)\n",
    "        pipe_z.append(pipe.to_node.elevation)\n",
    "        pipe_z.append(float('nan'))"
   ]
  },
  {
   "cell_type": "code",
   "execution_count": null,
   "metadata": {},
   "outputs": [],
   "source": [
    "junc_prop = np.zeros_like(wds.junctions.head)\n",
    "junc_prop[10] = 1\n",
    "plot_data = cds(\n",
    "    data = {\n",
    "        'x':    junc_x,\n",
    "        'y':    junc_y,\n",
    "        'junc_prop':    junc_prop\n",
    "        }\n",
    "    )"
   ]
  },
  {
   "cell_type": "code",
   "execution_count": null,
   "metadata": {},
   "outputs": [],
   "source": [
    "fig         = figure()\n",
    "\n",
    "mapper = linear_cmap(\n",
    "    field_name  = 'junc_prop',\n",
    "    palette     = \"Spectral10\",\n",
    "    low         = 0,\n",
    "    high        = 1\n",
    "    )\n",
    "\n",
    "edges = fig.line(pipe_x, pipe_y)\n",
    "nodes = fig.circle(x='x', y='y', color=mapper, source=plot_data, size=12)\n",
    "show(fig)"
   ]
  },
  {
   "cell_type": "code",
   "execution_count": null,
   "metadata": {},
   "outputs": [],
   "source": []
  }
 ],
 "metadata": {
  "kernelspec": {
   "display_name": "Python 3",
   "language": "python",
   "name": "python3"
  },
  "language_info": {
   "codemirror_mode": {
    "name": "ipython",
    "version": 3
   },
   "file_extension": ".py",
   "mimetype": "text/x-python",
   "name": "python",
   "nbconvert_exporter": "python",
   "pygments_lexer": "ipython3",
   "version": "3.7.8"
  }
 },
 "nbformat": 4,
 "nbformat_minor": 4
}
