{
 "cells": [
  {
   "cell_type": "code",
   "execution_count": null,
   "metadata": {},
   "outputs": [],
   "source": [
    "import numpy as np\n",
    "from scipy import sparse\n",
    "import networkx as nx\n",
    "from epynet import Network\n",
    "import matplotlib.pyplot as plt\n",
    "from matplotlib.colors import LogNorm\n",
    "import seaborn as sns"
   ]
  },
  {
   "cell_type": "code",
   "execution_count": null,
   "metadata": {},
   "outputs": [],
   "source": [
    "wds_name = 'anytown'"
   ]
  },
  {
   "cell_type": "code",
   "execution_count": null,
   "metadata": {},
   "outputs": [],
   "source": [
    "if wds_name == 'anytown':\n",
    "    wds = Network('../water_networks/anytown.inp')\n",
    "elif wds_name == 'ctown':\n",
    "    wds = Network('../water_networks/ctown.inp')\n",
    "elif wds_name == 'richmond':\n",
    "    wds = Network('../water_networks/richmond.inp')"
   ]
  },
  {
   "cell_type": "markdown",
   "metadata": {},
   "source": [
    "### NetworkX hálózat felépítése\n",
    "Az éleket az ellenállástényezővel súlyozzuk. A gráf konvolúciós technikák  a **Spektral** csomagban csak bináris szomszédsági mátrixokat kezelnek, a súlyozást az élek attribútumaként kell kezelni."
   ]
  },
  {
   "cell_type": "code",
   "execution_count": null,
   "metadata": {},
   "outputs": [],
   "source": [
    "G = nx.Graph()\n",
    "\n",
    "max_weight = 0\n",
    "for pipe in wds.pipes:\n",
    "    #weight = (pipe.diameter/1000)**5 / (pipe.roughness * pipe.length)\n",
    "    weight = (pipe.diameter*0.03937)**4.8655 / (0.2083 * (100/pipe.roughness)**1.852 * pipe.length)\n",
    "    G.add_edge(pipe.from_node.index, pipe.to_node.index, weight=weight)\n",
    "    if weight > max_weight:\n",
    "        max_weight = weight\n",
    "for pump in wds.pumps:\n",
    "    G.add_edge(pump.from_node.index, pump.to_node.index, weight=1.)\n",
    "for valve in wds.pumps:\n",
    "    G.add_edge(valve.from_node.index, valve.to_node.index, weight=1.)\n",
    "\n",
    "for (_,_,d) in G.edges(data=True):\n",
    "    d['weight'] /= max_weight"
   ]
  },
  {
   "cell_type": "code",
   "execution_count": null,
   "metadata": {},
   "outputs": [],
   "source": [
    "if nx.is_connected(G.to_undirected()):\n",
    "    print(nx.algorithms.distance_measures.diameter(G.to_undirected()))\n",
    "else:\n",
    "    for comp in list(nx.connected_components(G)):\n",
    "        print(nx.algorithms.distance_measures.diameter(G.subgraph(comp)))"
   ]
  },
  {
   "cell_type": "markdown",
   "metadata": {},
   "source": [
    "### Súlyozott szomszédsági mátrix"
   ]
  },
  {
   "cell_type": "code",
   "execution_count": null,
   "metadata": {},
   "outputs": [],
   "source": [
    "A_tilde = np.array(nx.adjacency_matrix(G).toarray())\n",
    "A_tilde += np.eye(np.shape(A_tilde)[0])\n",
    "D_tilde = np.diag(np.sum(A_tilde, axis=0)**-.5)\n",
    "Laplacian_weighted = np.dot(np.dot(D_tilde, A_tilde), D_tilde)"
   ]
  },
  {
   "cell_type": "markdown",
   "metadata": {},
   "source": [
    "### Bináris szomszédsági mátrix"
   ]
  },
  {
   "cell_type": "code",
   "execution_count": null,
   "metadata": {},
   "outputs": [],
   "source": [
    "A_tilde = np.array(nx.adjacency_matrix(G).toarray())\n",
    "A_tilde += np.eye(np.shape(A_tilde)[0])\n",
    "A_tilde[np.nonzero(A_tilde)] = 1\n",
    "D_tilde = np.diag(np.sum(A_tilde, axis=0)**-.5)\n",
    "Laplacian_binary = np.dot(np.dot(D_tilde, A_tilde), D_tilde)"
   ]
  },
  {
   "cell_type": "markdown",
   "metadata": {},
   "source": [
    "### Gráf Laplace-mátrixa súlyozott és bináris szomszédsággal"
   ]
  },
  {
   "cell_type": "code",
   "execution_count": null,
   "metadata": {},
   "outputs": [],
   "source": [
    "figsize = (8,6)\n",
    "axlabel = \"Node number\"\n",
    "barlabel = \"Value of Laplacian\"\n",
    "fig, ax = plt.subplots(figsize=figsize)\n",
    "hmap = sns.heatmap(Laplacian_weighted,\n",
    "                  norm = LogNorm(vmin=Laplacian_weighted[Laplacian_weighted.nonzero()].min(),\n",
    "                               vmax=Laplacian_weighted.max()),\n",
    "                  cmap = 'viridis_r',\n",
    "                  cbar_kws = {'label': barlabel},\n",
    "                  #linewidths=.01, linecolor='grey',\n",
    "                  square=True,\n",
    "                  ax = ax\n",
    "                 )\n",
    "\n",
    "#fig.set_title('Laplacian of graph with weighted connections')\n",
    "hmap.set_xlabel(axlabel)\n",
    "hmap.set_ylabel(axlabel)\n",
    "#fig.axis('off')\n",
    "\n",
    "fn = 'Laplacian-weighted-' + wds_name + '.pdf'\n",
    "#fig.savefig(fn, bbox_inches='tight')"
   ]
  },
  {
   "cell_type": "code",
   "execution_count": null,
   "metadata": {},
   "outputs": [],
   "source": [
    "fig, ax = plt.subplots(figsize=figsize, edgecolor='k')\n",
    "\n",
    "hmap = sns.heatmap(Laplacian_binary, \n",
    "            norm = LogNorm(vmin=Laplacian_binary[Laplacian_binary.nonzero()].min(),\n",
    "                         vmax=Laplacian_binary.max()),\n",
    "                  cmap='viridis_r',\n",
    "                  cbar_kws = {'label': barlabel},\n",
    "                  #linewidths=.000001, linecolor='grey',\n",
    "                  square = True,\n",
    "                  ax = ax\n",
    "                 )\n",
    "\n",
    "#fig.set_title('Laplacian of graph with binary connections')\n",
    "#fig.axis('off')\n",
    "\n",
    "hmap.set_xlabel(axlabel)\n",
    "hmap.set_ylabel(axlabel)\n",
    "\n",
    "fn = 'Laplacian-binary-' + wds_name + '.pdf'\n",
    "#fig.savefig(fn, bbox_inches='tight')"
   ]
  },
  {
   "cell_type": "markdown",
   "metadata": {},
   "source": [
    "### Csomópontok saját fontossága a szomszédaihoz képest"
   ]
  },
  {
   "cell_type": "code",
   "execution_count": null,
   "metadata": {},
   "outputs": [],
   "source": [
    "center_weighted = Laplacian_weighted.diagonal()\n",
    "radius_weighted = np.sum(Laplacian_weighted, axis=0)-center_weighted\n",
    "ratio_weighted = radius_weighted/center_weighted\n",
    "\n",
    "center_binary = Laplacian_binary.diagonal()\n",
    "radius_binary = np.sum(Laplacian_binary, axis=0)-center_binary\n",
    "ratio_binary = radius_binary/center_binary"
   ]
  },
  {
   "cell_type": "code",
   "execution_count": null,
   "metadata": {},
   "outputs": [],
   "source": [
    "xlab = 'Node number'\n",
    "ylab = 'Self-importance compared to neighbours'\n",
    "fig, ax = plt.subplots(figsize=(6, 5)) # set the size that you'd like (width, height)\n",
    "plt.bar(np.arange(len(ratio_weighted)), 1/ratio_weighted, log=True)\n",
    "plt.xlabel(xlab)\n",
    "plt.ylabel(ylab)\n",
    "\n",
    "fn = 'Self-importance_weighted-' + wds_name + '.pdf'\n",
    "#fig.savefig(fn, bbox_inches='tight')"
   ]
  },
  {
   "cell_type": "code",
   "execution_count": null,
   "metadata": {},
   "outputs": [],
   "source": [
    "fig, ax = plt.subplots(figsize=(6, 5)) # set the size that you'd like (width, height)\n",
    "plt.bar(np.arange(len(ratio_binary)), 1/ratio_binary, log=True)\n",
    "plt.xlabel(xlab)\n",
    "plt.ylabel(ylab)\n",
    "\n",
    "fn = 'Self-importance_binary-' + wds_name + '.pdf'\n",
    "#fig.savefig(fn, bbox_inches='tight')"
   ]
  }
 ],
 "metadata": {
  "kernelspec": {
   "display_name": "Python 3",
   "language": "python",
   "name": "python3"
  },
  "language_info": {
   "codemirror_mode": {
    "name": "ipython",
    "version": 3
   },
   "file_extension": ".py",
   "mimetype": "text/x-python",
   "name": "python",
   "nbconvert_exporter": "python",
   "pygments_lexer": "ipython3",
   "version": "3.8.8"
  }
 },
 "nbformat": 4,
 "nbformat_minor": 4
}
