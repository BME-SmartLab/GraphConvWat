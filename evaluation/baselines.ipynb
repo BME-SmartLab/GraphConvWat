{
 "cells": [
  {
   "cell_type": "code",
   "execution_count": 1,
   "id": "dc39008f",
   "metadata": {},
   "outputs": [],
   "source": [
    "import os\n",
    "import dask.array as da\n",
    "import networkx as nx\n",
    "import numpy as np\n",
    "import zarr\n",
    "from epynet import Network\n",
    "\n",
    "import sys\n",
    "sys.path.insert(0, os.path.join('..', 'utils'))\n",
    "from graph_utils import get_nx_graph\n",
    "from DataReader import DataReader\n",
    "\n",
    "import matplotlib.pyplot as plt\n",
    "%matplotlib inline"
   ]
  },
  {
   "cell_type": "code",
   "execution_count": 2,
   "id": "a3bfb12b",
   "metadata": {},
   "outputs": [],
   "source": [
    "wds_id = 'ctown'"
   ]
  },
  {
   "cell_type": "code",
   "execution_count": 3,
   "id": "85cc29cb",
   "metadata": {},
   "outputs": [],
   "source": [
    "path_to_data = os.path.join('..', 'data', 'db_'+wds_id+'_doe_pumpfed_1')\n",
    "path_to_wds = os.path.join('..', 'water_networks', wds_id+'.inp')"
   ]
  },
  {
   "cell_type": "markdown",
   "id": "25f33d26",
   "metadata": {},
   "source": [
    "# Loading data\n",
    "### Loading graph"
   ]
  },
  {
   "cell_type": "code",
   "execution_count": 4,
   "id": "f405d33f",
   "metadata": {},
   "outputs": [],
   "source": [
    "wds = Network(path_to_wds)\n",
    "G_unweighted = get_nx_graph(wds, mode='binary')\n",
    "L_unweighted = da.array(nx.linalg.laplacianmatrix.laplacian_matrix(G_unweighted).todense())\n",
    "L_unweighted_normalized = da.array(nx.linalg.laplacianmatrix.normalized_laplacian_matrix(G_unweighted).todense())\n",
    "G_weighted = get_nx_graph(wds, mode='weighted')\n",
    "L_weighted = da.array(nx.linalg.laplacianmatrix.laplacian_matrix(G_weighted).todense())\n",
    "L_weighted_normalized = da.array(nx.linalg.laplacianmatrix.normalized_laplacian_matrix(G_weighted).todense())"
   ]
  },
  {
   "cell_type": "markdown",
   "id": "d49c8c6f",
   "metadata": {},
   "source": [
    "### Loading signal"
   ]
  },
  {
   "cell_type": "code",
   "execution_count": 5,
   "id": "9c46c896",
   "metadata": {},
   "outputs": [],
   "source": [
    "# Complete data\n",
    "# store = zarr.open(path_to_data, mode='r')\n",
    "# X = da.from_zarr(store['trn/junc_heads']).T\n",
    "\n",
    "# Parted data: observed/unobserved\n",
    "reader = DataReader(path_to_data, n_junc=len(wds.junctions.uid), obsrat=.2, seed=None)\n",
    "X_complete, _, _ = reader.read_data(\n",
    "    dataset = 'tst',\n",
    "    varname = 'junc_heads',\n",
    "    rescale = None,\n",
    "    cover = False\n",
    ")\n",
    "X_sparse, _, _ = reader.read_data(\n",
    "    dataset = 'tst',\n",
    "    varname = 'junc_heads',\n",
    "    rescale = None,\n",
    "    cover = True\n",
    ")"
   ]
  },
  {
   "cell_type": "code",
   "execution_count": 6,
   "id": "9607fad9",
   "metadata": {},
   "outputs": [
    {
     "data": {
      "text/html": [
       "<table>\n",
       "<tr>\n",
       "<td>\n",
       "<table>\n",
       "  <thead>\n",
       "    <tr><td> </td><th> Array </th><th> Chunk </th></tr>\n",
       "  </thead>\n",
       "  <tbody>\n",
       "    <tr><th> Bytes </th><td> 1.15 MiB </td> <td> 1.15 MiB </td></tr>\n",
       "    <tr><th> Shape </th><td> (388, 388) </td> <td> (388, 388) </td></tr>\n",
       "    <tr><th> Count </th><td> 2 Tasks </td><td> 1 Chunks </td></tr>\n",
       "    <tr><th> Type </th><td> float64 </td><td> numpy.matrix </td></tr>\n",
       "  </tbody>\n",
       "</table>\n",
       "</td>\n",
       "<td>\n",
       "<svg width=\"170\" height=\"170\" style=\"stroke:rgb(0,0,0);stroke-width:1\" >\n",
       "\n",
       "  <!-- Horizontal lines -->\n",
       "  <line x1=\"0\" y1=\"0\" x2=\"120\" y2=\"0\" style=\"stroke-width:2\" />\n",
       "  <line x1=\"0\" y1=\"120\" x2=\"120\" y2=\"120\" style=\"stroke-width:2\" />\n",
       "\n",
       "  <!-- Vertical lines -->\n",
       "  <line x1=\"0\" y1=\"0\" x2=\"0\" y2=\"120\" style=\"stroke-width:2\" />\n",
       "  <line x1=\"120\" y1=\"0\" x2=\"120\" y2=\"120\" style=\"stroke-width:2\" />\n",
       "\n",
       "  <!-- Colored Rectangle -->\n",
       "  <polygon points=\"0.0,0.0 120.0,0.0 120.0,120.0 0.0,120.0\" style=\"fill:#ECB172A0;stroke-width:0\"/>\n",
       "\n",
       "  <!-- Text -->\n",
       "  <text x=\"60.000000\" y=\"140.000000\" font-size=\"1.0rem\" font-weight=\"100\" text-anchor=\"middle\" >388</text>\n",
       "  <text x=\"140.000000\" y=\"60.000000\" font-size=\"1.0rem\" font-weight=\"100\" text-anchor=\"middle\" transform=\"rotate(-90,140.000000,60.000000)\">388</text>\n",
       "</svg>\n",
       "</td>\n",
       "</tr>\n",
       "</table>"
      ],
      "text/plain": [
       "dask.array<array, shape=(388, 388), dtype=float64, chunksize=(388, 388), chunktype=numpy.matrix>"
      ]
     },
     "execution_count": 6,
     "metadata": {},
     "output_type": "execute_result"
    }
   ],
   "source": [
    "L_unweighted"
   ]
  },
  {
   "cell_type": "code",
   "execution_count": 7,
   "id": "486196bd",
   "metadata": {},
   "outputs": [
    {
     "data": {
      "text/html": [
       "<table>\n",
       "<tr>\n",
       "<td>\n",
       "<table>\n",
       "  <thead>\n",
       "    <tr><td> </td><th> Array </th><th> Chunk </th></tr>\n",
       "  </thead>\n",
       "  <tbody>\n",
       "    <tr><th> Bytes </th><td> 1.15 MiB </td> <td> 1.15 MiB </td></tr>\n",
       "    <tr><th> Shape </th><td> (388, 388) </td> <td> (388, 388) </td></tr>\n",
       "    <tr><th> Count </th><td> 2 Tasks </td><td> 1 Chunks </td></tr>\n",
       "    <tr><th> Type </th><td> float64 </td><td> numpy.matrix </td></tr>\n",
       "  </tbody>\n",
       "</table>\n",
       "</td>\n",
       "<td>\n",
       "<svg width=\"170\" height=\"170\" style=\"stroke:rgb(0,0,0);stroke-width:1\" >\n",
       "\n",
       "  <!-- Horizontal lines -->\n",
       "  <line x1=\"0\" y1=\"0\" x2=\"120\" y2=\"0\" style=\"stroke-width:2\" />\n",
       "  <line x1=\"0\" y1=\"120\" x2=\"120\" y2=\"120\" style=\"stroke-width:2\" />\n",
       "\n",
       "  <!-- Vertical lines -->\n",
       "  <line x1=\"0\" y1=\"0\" x2=\"0\" y2=\"120\" style=\"stroke-width:2\" />\n",
       "  <line x1=\"120\" y1=\"0\" x2=\"120\" y2=\"120\" style=\"stroke-width:2\" />\n",
       "\n",
       "  <!-- Colored Rectangle -->\n",
       "  <polygon points=\"0.0,0.0 120.0,0.0 120.0,120.0 0.0,120.0\" style=\"fill:#ECB172A0;stroke-width:0\"/>\n",
       "\n",
       "  <!-- Text -->\n",
       "  <text x=\"60.000000\" y=\"140.000000\" font-size=\"1.0rem\" font-weight=\"100\" text-anchor=\"middle\" >388</text>\n",
       "  <text x=\"140.000000\" y=\"60.000000\" font-size=\"1.0rem\" font-weight=\"100\" text-anchor=\"middle\" transform=\"rotate(-90,140.000000,60.000000)\">388</text>\n",
       "</svg>\n",
       "</td>\n",
       "</tr>\n",
       "</table>"
      ],
      "text/plain": [
       "dask.array<array, shape=(388, 388), dtype=float64, chunksize=(388, 388), chunktype=numpy.matrix>"
      ]
     },
     "execution_count": 7,
     "metadata": {},
     "output_type": "execute_result"
    }
   ],
   "source": [
    "L_weighted"
   ]
  },
  {
   "cell_type": "code",
   "execution_count": 8,
   "id": "4a5e0e33",
   "metadata": {},
   "outputs": [
    {
     "name": "stdout",
     "output_type": "stream",
     "text": [
      "(2000, 388, 1)\n",
      "(2000, 388, 2)\n"
     ]
    }
   ],
   "source": [
    "print(X_complete.shape)\n",
    "print(X_sparse.shape)"
   ]
  },
  {
   "cell_type": "markdown",
   "id": "996e030f",
   "metadata": {},
   "source": [
    "# Graph signal processing\n",
    "### Smoothness"
   ]
  },
  {
   "cell_type": "code",
   "execution_count": 9,
   "id": "688226b4",
   "metadata": {},
   "outputs": [],
   "source": [
    "X = X_complete[:,:,0].T\n",
    "smoothness_unweighted = da.dot(X.T, da.dot(L_unweighted, X)).trace()\n",
    "smoothness_weighted = da.dot(X.T, da.dot(L_weighted, X)).trace()"
   ]
  },
  {
   "cell_type": "code",
   "execution_count": 10,
   "id": "4a016b4c",
   "metadata": {},
   "outputs": [
    {
     "name": "stdout",
     "output_type": "stream",
     "text": [
      "Smoothness with unweighted Laplacian: 1595729449.\n",
      "Smoothness with weighted Laplacian: 84401454.\n"
     ]
    }
   ],
   "source": [
    "print('Smoothness with unweighted Laplacian: {:.0f}.'.format(smoothness_unweighted.compute()))\n",
    "print('Smoothness with weighted Laplacian: {:.0f}.'.format(smoothness_weighted.compute()))"
   ]
  },
  {
   "cell_type": "markdown",
   "id": "a3fb1f54",
   "metadata": {},
   "source": [
    "### Spectrum"
   ]
  },
  {
   "cell_type": "code",
   "execution_count": 11,
   "id": "5f2f1229",
   "metadata": {},
   "outputs": [],
   "source": [
    "eigvals_weighted = np.linalg.eigvals(L_weighted_normalized.compute()).real\n",
    "eigvals_unweighted = np.linalg.eigvals(L_unweighted_normalized.compute()).real"
   ]
  },
  {
   "cell_type": "code",
   "execution_count": 12,
   "id": "16410b80",
   "metadata": {},
   "outputs": [
    {
     "data": {
      "text/plain": [
       "<BarContainer object of 388 artists>"
      ]
     },
     "execution_count": 12,
     "metadata": {},
     "output_type": "execute_result"
    },
    {
     "data": {
      "image/png": "[encoded data removed]",
      "text/plain": [
       "<Figure size 432x288 with 1 Axes>"
      ]
     },
     "metadata": {
      "needs_background": "light"
     },
     "output_type": "display_data"
    }
   ],
   "source": [
    "plt.bar(np.arange(len(eigvals_weighted)), eigvals_weighted)"
   ]
  },
  {
   "cell_type": "code",
   "execution_count": 13,
   "id": "1bf4e94f",
   "metadata": {},
   "outputs": [
    {
     "data": {
      "text/plain": [
       "<BarContainer object of 388 artists>"
      ]
     },
     "execution_count": 13,
     "metadata": {},
     "output_type": "execute_result"
    },
    {
     "data": {
      "image/png": "[encoded data removed]",
      "text/plain": [
       "<Figure size 432x288 with 1 Axes>"
      ]
     },
     "metadata": {
      "needs_background": "light"
     },
     "output_type": "display_data"
    }
   ],
   "source": [
    "plt.bar(np.arange(len(eigvals_weighted)), eigvals_unweighted)"
   ]
  },
  {
   "cell_type": "markdown",
   "id": "57cb97cd",
   "metadata": {},
   "source": [
    "# Signal reconstruction\n",
    "### Getting S: rearranging the Laplacian"
   ]
  },
  {
   "cell_type": "code",
   "execution_count": 14,
   "id": "51a1ad42",
   "metadata": {},
   "outputs": [],
   "source": [
    "S = np.array(L_unweighted)\n",
    "F = X_sparse[:,:,0].copy()\n",
    "X_reconstructed = X_sparse[:,:,0].copy()\n",
    "flag_observed = X_sparse[:,:,1][0,:]"
   ]
  },
  {
   "cell_type": "code",
   "execution_count": 15,
   "id": "674897a4",
   "metadata": {},
   "outputs": [],
   "source": [
    "insert_idx = 0\n",
    "for i, flag in enumerate(flag_observed):\n",
    "    if flag:\n",
    "        observed_col = np.copy(S[:,i])\n",
    "        S[:,i] = S[:,insert_idx]\n",
    "        S[:,insert_idx] = observed_col\n",
    "        \n",
    "        S[i,:] = S[insert_idx,:]\n",
    "        S[insert_idx,:] = observed_col.T\n",
    "        \n",
    "        observed_col = np.copy(F[:,i])\n",
    "        F[:,i] = F[:,insert_idx]\n",
    "        F[:,insert_idx] = observed_col\n",
    "        \n",
    "        insert_idx += 1"
   ]
  },
  {
   "cell_type": "code",
   "execution_count": 16,
   "id": "28e07fb6",
   "metadata": {},
   "outputs": [],
   "source": [
    "F = F[:,:insert_idx]\n",
    "S_2 = S[:insert_idx, insert_idx:]\n",
    "S_3 = S[insert_idx:, insert_idx:]\n",
    "try:\n",
    "    S_3_inv = np.linalg.inv(S_3)\n",
    "except:\n",
    "    S_3_inv = np.linalg.pinv(S_3)"
   ]
  },
  {
   "cell_type": "code",
   "execution_count": 17,
   "id": "961ff270",
   "metadata": {},
   "outputs": [],
   "source": [
    "F_hat = -np.dot(S_3_inv, np.dot(S_2.T, F.T)).T"
   ]
  },
  {
   "cell_type": "code",
   "execution_count": 18,
   "id": "d6bf4efc",
   "metadata": {},
   "outputs": [],
   "source": [
    "insert_idx = 0\n",
    "for i, flag in enumerate(flag_observed):\n",
    "    if not flag:\n",
    "        X_reconstructed[:,i] = F_hat[:,insert_idx]\n",
    "        insert_idx += 1"
   ]
  },
  {
   "cell_type": "code",
   "execution_count": 19,
   "id": "19e2db74",
   "metadata": {},
   "outputs": [
    {
     "data": {
      "text/plain": [
       "array([-2.85830612e+02,  6.82715683e+01,  7.42842712e+01, -9.19964075e+02,\n",
       "       -1.59667240e+00, -3.45893483e+01, -4.08995582e+02, -4.84877669e+02,\n",
       "       -1.65168415e+02,  6.81660461e+01,  1.22750519e+02,  1.22750519e+02,\n",
       "        7.00110189e+01,  7.78931885e+01, -5.99164905e+02, -4.49335230e+02,\n",
       "       -4.49335230e+02,  1.21602797e+02,  7.79711990e+01,  1.21602797e+02,\n",
       "       -5.30239623e+02, -2.54069265e+03,  1.34314041e+02,  1.18031151e+02,\n",
       "        9.74203568e+01,  6.98733749e+01,  8.17135345e+01,  6.93183710e+01,\n",
       "        1.25886980e+02,  1.05293470e+02,  1.12453764e+02, -2.14615751e+03,\n",
       "        1.79847977e+02,  7.62556305e+01,  1.82328110e+02,  1.09489247e+02,\n",
       "        1.09009217e+02,  1.22594329e+02,  1.23911385e+02,  1.30194556e+02,\n",
       "        1.23872208e+02,  1.23869141e+02,  1.08529187e+02, -9.50053248e+01,\n",
       "        1.56189667e+02,  1.07392524e+02,  1.15515208e+02,  1.17991539e+02,\n",
       "        1.07963501e+02, -8.32531740e+02, -8.32531740e+02, -1.08672862e+03,\n",
       "       -6.09399888e+02,  1.08877853e+02,  1.19803687e+02,  5.23962763e+01,\n",
       "        3.13960035e+01,  3.13960035e+01, -1.07259088e+03,  1.13345284e+02,\n",
       "       -1.07259088e+03,  8.10621010e+01,  7.86657867e+01,  9.00126373e+01,\n",
       "       -2.65803070e+01,  6.43886794e+01,  1.17701065e+02,  8.11480560e+01,\n",
       "        1.60053772e+02,  1.60053772e+02, -1.63773450e+02, -1.63773450e+02,\n",
       "        7.76744614e+01, -1.97553596e+02,  1.17594429e+02, -1.97553596e+02,\n",
       "        6.81660461e+01,  1.21782430e+02,  6.82715683e+01,  1.21782430e+02,\n",
       "       -1.07259088e+03,  3.78900262e+00,  3.78900262e+00,  1.66731013e+02,\n",
       "        1.64032120e+02, -7.87702255e+02,  1.62110570e+02, -2.73647888e+02,\n",
       "        7.42842712e+01,  7.42842712e+01,  1.60053772e+02,  1.11965829e+02,\n",
       "        1.15898210e+02,  1.07921608e+02,  1.70315542e+02,  1.70315542e+02,\n",
       "        1.08574310e+02, -9.82023284e+02,  1.04058101e+02, -6.61387210e+01,\n",
       "       -6.39128454e+02,  1.23637891e+02,  9.81331762e+01,  7.76890564e+01,\n",
       "        1.56189667e+02,  1.56189667e+02, -7.90420536e+02,  1.49223663e+02,\n",
       "       -3.81801422e+02,  1.56189667e+02, -5.42383565e+02,  9.18615923e+01,\n",
       "        1.20085357e+02, -7.02965708e+02, -1.75837383e+02,  1.17934959e+02,\n",
       "        1.18004578e+02, -2.29417465e+02, -3.77164998e+01, -6.52240445e+02,\n",
       "        1.05293470e+02, -2.87108335e+02, -2.87108335e+02, -4.33199203e+02,\n",
       "        1.01890869e+02,  1.10142982e+02, -7.21330491e+02,  1.01890869e+02,\n",
       "       -1.18507080e+02,  1.01890869e+02, -6.52240445e+02,  1.27807191e+02,\n",
       "        1.39716173e+02,  1.08877853e+02,  1.08877853e+02, -1.18507080e+02,\n",
       "       -1.18507080e+02, -1.18507080e+02, -4.33199203e+02, -4.33199203e+02,\n",
       "        1.71351456e+02,  9.84316529e+01,  1.57490128e+02,  9.84316529e+01,\n",
       "       -4.33199203e+02, -1.11589701e+03, -4.33199203e+02, -6.06371358e+01,\n",
       "       -2.21219279e+02, -9.52771125e+00,  1.25459534e+02,  1.08877853e+02,\n",
       "        1.08877853e+02,  1.35784409e+02,  3.92569701e+01, -1.37631039e+03,\n",
       "       -1.17841421e+03, -2.69123938e+03,  1.75852997e+02,  1.08877853e+02,\n",
       "       -4.33199203e+02,  5.95283731e+01, -1.32379025e+03,  1.60553541e+02,\n",
       "       -3.40513200e+03,  1.61486317e+02,  1.01891357e+02,  1.61486317e+02,\n",
       "       -1.07259088e+03,  1.62419092e+02,  1.62419092e+02, -7.34631179e+02,\n",
       "        1.01890869e+02, -1.32379025e+03,  1.22358704e+02, -2.85830612e+02,\n",
       "        9.73813553e+01, -5.14375124e+02, -6.85871846e+02, -1.72904420e+03,\n",
       "        1.22358704e+02,  8.59686550e+00, -1.72841273e+02, -4.56511796e+02,\n",
       "       -3.42878401e+02, -2.87108335e+02, -4.41783613e+03, -7.34631179e+02,\n",
       "       -1.55299548e+03, -7.34631179e+02,  1.23401906e+02,  7.76537094e+01,\n",
       "        1.23401906e+02,  1.19614058e+02,  1.10949212e+02,  9.99450073e+01,\n",
       "        1.23444424e+02, -2.99855408e+02,  1.38211056e+02,  1.00777390e+02,\n",
       "        1.01270058e+02,  9.84928360e+01,  1.40482476e+02,  1.42753896e+02,\n",
       "        1.10971560e+02,  1.16798490e+02,  1.10842199e+02,  1.55889664e+02,\n",
       "        1.09999639e+02, -5.59291974e+01,  1.63351868e+02, -2.31338268e+02,\n",
       "       -2.27151746e+02,  1.38079556e+02,  8.37331238e+01,  1.27971660e+02,\n",
       "        1.18246289e+02,  9.95605954e+01,  1.29023441e+02, -2.79030259e+03,\n",
       "        1.27589136e+02,  1.58629974e+02,  1.61434357e+02,  1.27206611e+02,\n",
       "        9.02177486e+01, -3.05781615e+03,  1.60984283e+02, -3.86524340e+03,\n",
       "        9.13003616e+01,  9.29545187e+01,  1.23911385e+02,  5.69232076e+01,\n",
       "        7.97997761e+01,  7.83873552e+01, -1.73082950e+03,  1.35939636e+02,\n",
       "       -2.33807905e+03,  8.59140934e+01,  1.32892517e+02,  1.32892517e+02,\n",
       "        8.17976190e+01,  1.05164413e+02,  1.19028465e+02,  1.09027718e+02,\n",
       "        1.19028465e+02,  1.20107737e+01, -6.75820242e+01, -8.32531740e+02,\n",
       "        1.32892517e+02,  1.19028465e+02,  1.58953758e+02,  1.17120789e+02,\n",
       "        1.58037683e+02,  1.60053772e+02, -3.31335904e+02,  6.33147087e+01,\n",
       "        7.74363098e+01,  9.04658606e+01, -3.86524340e+03, -2.74077098e+03,\n",
       "        1.25262245e+02,  1.56663570e+02,  1.42653282e+02,  7.76811447e+01,\n",
       "        7.75130081e+01,  1.52043819e+02,  1.33262745e+02,  1.37794783e+02,\n",
       "        1.60327872e+02, -5.11068814e+01,  1.58495721e+02, -4.02502988e+01,\n",
       "        1.60053772e+02,  7.89280930e+01,  1.13750573e+02,  8.34925575e+01,\n",
       "       -7.20843801e+00,  8.34925575e+01, -1.76646051e+00, -6.37712886e+01,\n",
       "        8.49819450e+01, -3.79917562e+03,  8.49819450e+01, -4.09264923e+02,\n",
       "        8.49885559e+01, -3.98395763e+02,  8.13066750e+01, -3.44980501e+03,\n",
       "        1.10189885e+02,  1.35405268e+02,  1.65366287e+02, -2.42581809e+03,\n",
       "        1.35405268e+02,  1.71091629e+02,  1.35405268e+02,  1.57693626e+02,\n",
       "        1.54766601e+02,  8.49851151e+01,  7.88328283e+01,  1.51839576e+02,\n",
       "        1.57998232e+02,  1.64156887e+02,  8.49787750e+01,  1.54766601e+02,\n",
       "        8.49885559e+01,  1.70315542e+02,  8.49745026e+01,  1.70315542e+02,\n",
       "        7.76388474e+01,  1.70315542e+02,  1.70315542e+02,  1.70315542e+02,\n",
       "        1.60620651e+02,  1.70315542e+02, -2.60229229e+03,  3.78900262e+00,\n",
       "       -2.38595645e+03,  3.78900262e+00, -1.53682148e+03,  1.51243191e+02,\n",
       "        1.42344266e+02,  1.30194556e+02,  1.30194556e+02, -2.37135978e+03,\n",
       "       -5.91687006e+02, -1.37880845e+03, -2.33807905e+03, -4.60887918e+02,\n",
       "        1.76474197e+02,  1.03632175e+02,  1.77275269e+02, -3.75101730e+02,\n",
       "        1.76423828e+02,  1.46756569e+02, -1.31304455e+03,  1.32892517e+02,\n",
       "        7.86657867e+01,  1.09969276e+02,  1.09185822e+02,  7.90935656e+01,\n",
       "       -2.99855408e+02,  1.35921097e+02,  1.51625154e+02,  1.58495721e+02,\n",
       "        1.20107737e+01,  1.60620621e+02,  1.51625154e+02, -8.63547851e+02,\n",
       "       -1.02412999e+03, -6.40933485e+02, -2.57736976e+02, -2.57736976e+02,\n",
       "       -1.81322804e+03, -2.57736976e+02, -2.57736976e+02, -3.80724528e+03,\n",
       "        8.49874228e+01, -2.57736976e+02,  8.26566680e+01,  8.20000000e+01,\n",
       "       -2.57736976e+02, -5.49065455e+01,  8.10917053e+01,  9.12138951e+01,\n",
       "       -3.75101730e+02, -2.67219543e-01,  3.13960035e+01,  1.29729782e+02,\n",
       "        8.75550233e+01,  5.89244804e+01,  5.89308243e+01,  9.19706494e+01,\n",
       "        9.34756677e+01,  9.34756677e+01,  1.18679767e+02, -6.11459394e+02,\n",
       "        1.27602155e+02, -2.98617931e+02,  1.56189667e+02,  6.79443970e+01,\n",
       "       -1.18507080e+02,  1.27000125e+02,  1.25201016e+02,  1.34961479e+02,\n",
       "        1.15962706e+02,  1.48187452e+02, -9.19964075e+02,  1.64138535e+02])"
      ]
     },
     "execution_count": 19,
     "metadata": {},
     "output_type": "execute_result"
    }
   ],
   "source": [
    "X_reconstructed[0,:]"
   ]
  },
  {
   "cell_type": "code",
   "execution_count": 20,
   "id": "42573213",
   "metadata": {},
   "outputs": [
    {
     "data": {
      "text/plain": [
       "array([  0.        ,   0.        ,  74.28427124,   0.        ,\n",
       "         0.        ,   0.        ,   0.        ,   0.        ,\n",
       "         0.        ,   0.        ,   0.        ,   0.        ,\n",
       "         0.        ,  77.89318848,   0.        ,   0.        ,\n",
       "         0.        ,   0.        ,  77.97119904,   0.        ,\n",
       "         0.        ,   0.        ,   0.        , 118.03115082,\n",
       "        97.42035675,  69.87337494,   0.        ,   0.        ,\n",
       "         0.        ,   0.        ,   0.        ,   0.        ,\n",
       "       179.84797668,  76.25563049, 182.32810974,   0.        ,\n",
       "         0.        ,   0.        , 123.91138458,   0.        ,\n",
       "       123.87220764, 123.86914062,   0.        ,   0.        ,\n",
       "         0.        ,   0.        ,   0.        , 117.991539  ,\n",
       "       107.96350098,   0.        ,   0.        ,   0.        ,\n",
       "         0.        , 108.87785339,   0.        ,   0.        ,\n",
       "         0.        ,   0.        ,   0.        , 113.34528351,\n",
       "         0.        ,   0.        ,  78.66578674,   0.        ,\n",
       "         0.        ,   0.        ,   0.        ,  81.14805603,\n",
       "         0.        ,   0.        ,   0.        ,   0.        ,\n",
       "        77.67446136,   0.        , 117.59442902,   0.        ,\n",
       "        68.16604614,   0.        ,  68.2715683 ,   0.        ,\n",
       "         0.        ,   0.        ,   0.        ,   0.        ,\n",
       "       164.03211975,   0.        ,   0.        ,   0.        ,\n",
       "         0.        ,   0.        , 160.05377197,   0.        ,\n",
       "         0.        ,   0.        ,   0.        ,   0.        ,\n",
       "       108.5743103 ,   0.        ,   0.        ,   0.        ,\n",
       "         0.        ,   0.        ,   0.        ,  77.6890564 ,\n",
       "         0.        ,   0.        ,   0.        ,   0.        ,\n",
       "         0.        , 156.18966675,   0.        ,   0.        ,\n",
       "         0.        ,   0.        ,   0.        , 117.93495941,\n",
       "       118.00457764,   0.        ,   0.        ,   0.        ,\n",
       "         0.        ,   0.        ,   0.        ,   0.        ,\n",
       "         0.        , 110.14298248,   0.        ,   0.        ,\n",
       "         0.        ,   0.        ,   0.        ,   0.        ,\n",
       "         0.        ,   0.        ,   0.        ,   0.        ,\n",
       "         0.        ,   0.        ,   0.        ,   0.        ,\n",
       "       171.35145569,   0.        , 157.49012756,   0.        ,\n",
       "         0.        ,   0.        ,   0.        ,   0.        ,\n",
       "         0.        ,   0.        , 125.45953369,   0.        ,\n",
       "         0.        , 135.78440857,   0.        ,   0.        ,\n",
       "         0.        ,   0.        , 175.85299683,   0.        ,\n",
       "         0.        ,   0.        ,   0.        ,   0.        ,\n",
       "         0.        ,   0.        , 101.89135742,   0.        ,\n",
       "         0.        ,   0.        ,   0.        ,   0.        ,\n",
       "       101.89086914,   0.        ,   0.        ,   0.        ,\n",
       "        97.38135529,   0.        ,   0.        ,   0.        ,\n",
       "         0.        ,   0.        ,   0.        ,   0.        ,\n",
       "         0.        ,   0.        ,   0.        ,   0.        ,\n",
       "         0.        ,   0.        ,   0.        ,  77.65370941,\n",
       "         0.        ,   0.        ,   0.        ,  99.94500732,\n",
       "         0.        ,   0.        ,   0.        , 100.77738953,\n",
       "       101.27005768,  98.492836  ,   0.        ,   0.        ,\n",
       "         0.        ,   0.        ,   0.        , 155.8896637 ,\n",
       "         0.        ,   0.        , 163.35186768,   0.        ,\n",
       "         0.        ,   0.        ,  83.73312378,   0.        ,\n",
       "         0.        ,   0.        ,   0.        ,   0.        ,\n",
       "         0.        , 158.62997437, 161.43435669,   0.        ,\n",
       "         0.        ,   0.        , 160.98428345,   0.        ,\n",
       "         0.        ,   0.        ,   0.        ,   0.        ,\n",
       "         0.        ,   0.        ,   0.        , 135.93963623,\n",
       "         0.        ,   0.        ,   0.        ,   0.        ,\n",
       "         0.        ,   0.        ,   0.        , 109.02771759,\n",
       "         0.        ,   0.        ,   0.        ,   0.        ,\n",
       "         0.        ,   0.        ,   0.        , 117.12078857,\n",
       "         0.        ,   0.        ,   0.        ,  63.31470871,\n",
       "        77.43630981,   0.        ,   0.        ,   0.        ,\n",
       "         0.        ,   0.        ,   0.        ,  77.68114471,\n",
       "        77.51300812,   0.        ,   0.        ,   0.        ,\n",
       "         0.        ,   0.        ,   0.        ,   0.        ,\n",
       "         0.        ,  78.92809296,   0.        ,   0.        ,\n",
       "         0.        ,   0.        ,   0.        ,   0.        ,\n",
       "         0.        ,   0.        ,   0.        ,   0.        ,\n",
       "         0.        ,   0.        ,   0.        ,   0.        ,\n",
       "         0.        ,   0.        ,   0.        ,   0.        ,\n",
       "         0.        , 171.09162903,   0.        ,   0.        ,\n",
       "         0.        ,  84.98511505,   0.        ,   0.        ,\n",
       "         0.        ,   0.        ,  84.97877502,   0.        ,\n",
       "        84.98855591,   0.        ,  84.97450256,   0.        ,\n",
       "        77.63884735,   0.        ,   0.        ,   0.        ,\n",
       "       160.62065125,   0.        ,   0.        ,   0.        ,\n",
       "         0.        ,   0.        ,   0.        ,   0.        ,\n",
       "         0.        ,   0.        ,   0.        ,   0.        ,\n",
       "         0.        ,   0.        ,   0.        ,   0.        ,\n",
       "       176.47419739,   0.        , 177.27526855,   0.        ,\n",
       "       176.42382812,   0.        ,   0.        ,   0.        ,\n",
       "         0.        , 109.96927643, 109.18582153,   0.        ,\n",
       "         0.        , 135.9210968 ,   0.        ,   0.        ,\n",
       "         0.        , 160.62062073,   0.        ,   0.        ,\n",
       "         0.        ,   0.        ,   0.        ,   0.        ,\n",
       "         0.        ,   0.        ,   0.        ,   0.        ,\n",
       "         0.        ,   0.        ,   0.        ,  82.        ,\n",
       "         0.        ,   0.        ,  81.09170532,   0.        ,\n",
       "         0.        ,   0.        ,   0.        , 129.7297821 ,\n",
       "         0.        ,  58.92448044,  58.93082428,   0.        ,\n",
       "         0.        ,   0.        ,   0.        ,   0.        ,\n",
       "         0.        ,   0.        ,   0.        ,  67.94439697,\n",
       "         0.        ,   0.        ,   0.        ,   0.        ,\n",
       "         0.        ,   0.        ,   0.        , 164.13853455])"
      ]
     },
     "execution_count": 20,
     "metadata": {},
     "output_type": "execute_result"
    }
   ],
   "source": [
    "X_sparse[0,:,0]"
   ]
  },
  {
   "cell_type": "code",
   "execution_count": 21,
   "id": "cc5c1195",
   "metadata": {},
   "outputs": [
    {
     "data": {
      "text/plain": [
       "array([136.26605 ,  81.91984 ,  74.28427 , 211.05664 , 182.46265 ,\n",
       "        71.731155,  70.47443 ,  70.09612 , 120.78047 , 120.79069 ,\n",
       "       112.45797 , 112.45499 ,  77.93689 ,  77.89319 ,  77.764275,\n",
       "       117.140335, 117.1397  ,  77.985794,  77.9712  ,  78.0079  ,\n",
       "        78.83949 ,  76.75415 ,  77.99275 , 118.03115 ,  97.42036 ,\n",
       "        69.873375,  71.3504  ,  70.47443 ,  76.27071 ,  77.39382 ,\n",
       "        77.30369 , 180.95346 , 179.84798 ,  76.25563 , 182.32811 ,\n",
       "        77.14528 ,  77.77221 ,  77.84452 , 123.911385, 123.87282 ,\n",
       "       123.87221 , 123.86914 ,  80.10452 , 125.0965  ,  78.30671 ,\n",
       "       126.76337 , 160.7465  , 117.99154 , 107.9635  ,  77.675064,\n",
       "        77.5252  , 109.379616, 109.2286  , 108.87785 , 110.15802 ,\n",
       "       157.54214 , 110.352684, 157.0458  , 111.08573 , 113.34528 ,\n",
       "       110.27815 , 114.215614,  78.66579 ,  78.6403  ,  79.549934,\n",
       "        78.89337 ,  78.33542 ,  81.148056,  81.52261 ,  77.95057 ,\n",
       "        81.62277 , 176.3363  ,  77.67446 , 118.03173 , 117.59443 ,\n",
       "        55.63235 ,  68.166046,  68.13396 ,  68.27157 ,  68.49447 ,\n",
       "        77.80606 , 148.19164 , 148.19188 , 168.62459 , 164.03212 ,\n",
       "       117.86802 , 117.86287 ,  94.52    , 157.63947 , 160.07967 ,\n",
       "       160.05377 , 116.802734, 161.7579  , 162.77322 , 114.153564,\n",
       "       108.57433 , 108.57431 , 114.5461  , 110.261765, 110.000435,\n",
       "       109.98959 , 176.33578 , 182.57207 ,  77.68906 ,  74.4646  ,\n",
       "       176.3356  , 176.33286 , 176.33578 , 149.86835 , 156.18967 ,\n",
       "       118.16195 , 118.16267 , 118.16633 , 117.97494 , 118.019196,\n",
       "       117.93496 , 118.00458 , 118.1325  , 119.19967 ,  83.73107 ,\n",
       "        83.726135, 109.98935 ,  83.706894, 110.13254 , 110.08736 ,\n",
       "       110.14298 , 110.08578 , 109.967064, 110.08972 , 109.186424,\n",
       "       176.42377 , 156.20569 , 157.95917 , 158.28897 , 158.28502 ,\n",
       "       155.57986 , 154.65388 , 154.51949 , 118.16636 , 171.35254 ,\n",
       "       171.35146 , 157.49033 , 157.49013 , 171.27296 , 128.68253 ,\n",
       "       128.58829 , 109.54195 , 129.68608 , 117.22682 , 135.02647 ,\n",
       "       125.45953 , 124.52466 , 118.1764  , 135.78441 , 157.48332 ,\n",
       "       154.42375 , 155.85168 , 161.5039  , 175.853   , 174.01926 ,\n",
       "        77.46987 ,  77.91217 , 162.8518  ,  77.52908 ,  77.59564 ,\n",
       "       128.50955 , 101.89136 , 101.890656, 101.89456 , 101.891205,\n",
       "       157.47739 , 101.89404 , 101.89087 , 101.89082 , 160.62369 ,\n",
       "        97.40464 ,  97.381355,  97.32793 ,  83.72755 , 161.47577 ,\n",
       "       161.47523 , 157.50511 , 157.47067 , 160.89496 , 161.59375 ,\n",
       "        77.37893 , 173.44505 ,  77.77548 ,  77.77544 ,  77.78744 ,\n",
       "        77.79035 ,  77.65371 ,  77.77374 ,  98.522446,  77.47018 ,\n",
       "        99.94501 , 100.42589 , 101.797806, 100.7762  , 100.77739 ,\n",
       "       101.27006 ,  98.492836, 137.08101 , 158.60777 , 158.39566 ,\n",
       "       158.66504 , 158.62665 , 155.88966 ,  77.985794, 148.07825 ,\n",
       "       163.35187 , 171.47978 ,  99.97016 , 101.64772 ,  83.73312 ,\n",
       "        99.89814 ,  83.73394 ,  99.41978 ,  99.89847 ,  98.52083 ,\n",
       "        98.52082 , 158.62997 , 161.43436 , 158.20355 , 159.38654 ,\n",
       "       159.35301 , 160.98428 , 159.92865 , 138.37642 , 160.91211 ,\n",
       "       135.94055 , 135.94371 , 136.05836 , 135.96185 , 136.08478 ,\n",
       "       135.93964 , 182.57207 , 135.86569 , 182.57207 , 182.57207 ,\n",
       "       182.57207 , 109.18353 , 182.57207 , 109.02772 ,  84.07499 ,\n",
       "       104.90368 , 110.250755,  98.52047 , 117.13549 , 105.73784 ,\n",
       "       105.73758 , 117.12079 , 101.84034 ,  98.52167 , 101.89496 ,\n",
       "        63.31471 ,  77.43631 ,  77.436325,  77.37562 ,  56.90067 ,\n",
       "        78.60051 ,  76.34507 ,  68.42152 ,  77.681145,  77.51301 ,\n",
       "        77.492256,  77.874016,  94.20758 ,  97.18749 ,  94.16758 ,\n",
       "       101.89452 ,  98.56956 ,  78.64908 ,  78.92809 ,  79.24381 ,\n",
       "        78.30778 ,  78.42281 ,  78.492584,  78.59073 ,  78.26136 ,\n",
       "        80.62447 ,  77.2911  ,  76.51308 ,  70.47443 , 182.57207 ,\n",
       "       182.57207 , 182.57207 , 182.57207 , 182.57207 , 182.57207 ,\n",
       "       182.57207 , 170.31789 , 171.88203 , 171.09163 , 171.09259 ,\n",
       "       171.09122 ,  84.972725,  84.985115, 171.09114 , 171.09319 ,\n",
       "        84.97704 ,  84.9745  ,  84.978775, 171.09352 ,  84.988556,\n",
       "       171.17522 ,  84.9745  ,  77.764824,  77.63885 ,  77.821724,\n",
       "       160.62062 , 160.62062 , 160.62065 , 160.62164 , 160.6214  ,\n",
       "       160.62549 , 160.62538 , 160.63223 , 160.63211 , 160.62949 ,\n",
       "       160.64096 , 160.79327 , 160.97325 , 160.79124 , 160.76212 ,\n",
       "       161.02298 , 169.77635 , 176.47784 , 176.4742  , 176.46188 ,\n",
       "       177.27527 , 169.77332 , 176.42383 , 176.40129 , 176.41652 ,\n",
       "       158.28577 , 109.9934  , 109.96928 , 109.18582 , 135.98401 ,\n",
       "       135.91962 , 135.9211  , 135.91096 , 157.49464 ,  99.97398 ,\n",
       "       160.62062 , 110.29241 , 149.86829 ,  84.951614,  85.      ,\n",
       "       171.35149 , 171.16791 , 161.47408 ,  94.48883 ,  94.49264 ,\n",
       "        94.468   , 157.29944 ,  81.083916, 157.29755 ,  82.      ,\n",
       "        81.991234,  81.10365 ,  81.091705, 117.105705, 117.123474,\n",
       "       135.86409 , 129.72212 , 129.72978 , 129.72916 ,  58.92448 ,\n",
       "        58.930824,  58.925076,  68.25414 ,  68.07285 ,  68.11091 ,\n",
       "        68.072495, 211.067   , 177.28918 ,  67.92749 ,  67.9444  ,\n",
       "        54.11816 ,  53.65756 , 137.79407 , 137.67592 ,  53.121735,\n",
       "        53.05299 , 164.04541 , 164.13853 ], dtype=float32)"
      ]
     },
     "execution_count": 21,
     "metadata": {},
     "output_type": "execute_result"
    }
   ],
   "source": [
    "X[:,0]"
   ]
  },
  {
   "cell_type": "code",
   "execution_count": null,
   "id": "837c85c2",
   "metadata": {},
   "outputs": [],
   "source": []
  }
 ],
 "metadata": {
  "kernelspec": {
   "display_name": "Python 3 (ipykernel)",
   "language": "python",
   "name": "python3"
  },
  "language_info": {
   "codemirror_mode": {
    "name": "ipython",
    "version": 3
   },
   "file_extension": ".py",
   "mimetype": "text/x-python",
   "name": "python",
   "nbconvert_exporter": "python",
   "pygments_lexer": "ipython3",
   "version": "3.8.11"
  }
 },
 "nbformat": 4,
 "nbformat_minor": 5
}
