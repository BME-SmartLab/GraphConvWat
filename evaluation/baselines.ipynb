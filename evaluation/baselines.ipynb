{
 "cells": [
  {
   "cell_type": "code",
   "execution_count": 1,
   "id": "dc39008f",
   "metadata": {},
   "outputs": [],
   "source": [
    "import os\n",
    "import dask.array as da\n",
    "import networkx as nx\n",
    "import numpy as np\n",
    "import zarr\n",
    "from epynet import Network\n",
    "\n",
    "import sys\n",
    "sys.path.insert(0, os.path.join('..', 'utils'))\n",
    "from graph_utils import get_nx_graph\n",
    "from DataReader import DataReader\n",
    "\n",
    "import matplotlib.pyplot as plt\n",
    "%matplotlib inline"
   ]
  },
  {
   "cell_type": "code",
   "execution_count": 2,
   "id": "a3bfb12b",
   "metadata": {},
   "outputs": [],
   "source": [
    "wds_id = 'ctown'"
   ]
  },
  {
   "cell_type": "code",
   "execution_count": 3,
   "id": "85cc29cb",
   "metadata": {},
   "outputs": [],
   "source": [
    "path_to_data = os.path.join('..', 'data', 'db_'+wds_id+'_doe_pumpfed_1')\n",
    "path_to_wds = os.path.join('..', 'water_networks', wds_id+'.inp')"
   ]
  },
  {
   "cell_type": "markdown",
   "id": "25f33d26",
   "metadata": {},
   "source": [
    "# Loading data\n",
    "### Loading graph"
   ]
  },
  {
   "cell_type": "code",
   "execution_count": 4,
   "id": "f405d33f",
   "metadata": {},
   "outputs": [],
   "source": [
    "wds = Network(path_to_wds)\n",
    "G_unweighted = get_nx_graph(wds, mode='binary')\n",
    "L_unweighted = da.array(nx.linalg.laplacianmatrix.laplacian_matrix(G_unweighted).todense())\n",
    "L_unweighted_normalized = da.array(nx.linalg.laplacianmatrix.normalized_laplacian_matrix(G_unweighted).todense())\n",
    "G_weighted = get_nx_graph(wds, mode='weighted')\n",
    "L_weighted = da.array(nx.linalg.laplacianmatrix.laplacian_matrix(G_weighted).todense())\n",
    "L_weighted_normalized = da.array(nx.linalg.laplacianmatrix.normalized_laplacian_matrix(G_weighted).todense())"
   ]
  },
  {
   "cell_type": "markdown",
   "id": "d49c8c6f",
   "metadata": {},
   "source": [
    "### Loading signal"
   ]
  },
  {
   "cell_type": "code",
   "execution_count": 5,
   "id": "9c46c896",
   "metadata": {},
   "outputs": [],
   "source": [
    "reader = DataReader(path_to_data, n_junc=len(wds.junctions.uid), obsrat=.1, seed=None)\n",
    "X_complete, _, _ = reader.read_data(\n",
    "    dataset = 'tst',\n",
    "    varname = 'junc_heads',\n",
    "    rescale = None,\n",
    "    cover = False\n",
    ")\n",
    "X_sparse, _, _ = reader.read_data(\n",
    "    dataset = 'tst',\n",
    "    varname = 'junc_heads',\n",
    "    rescale = None,\n",
    "    cover = True\n",
    ")"
   ]
  },
  {
   "cell_type": "markdown",
   "id": "996e030f",
   "metadata": {},
   "source": [
    "# Graph signal processing\n",
    "### Smoothness"
   ]
  },
  {
   "cell_type": "code",
   "execution_count": 6,
   "id": "688226b4",
   "metadata": {},
   "outputs": [],
   "source": [
    "X = X_complete[:,:,0].T\n",
    "smoothness_unweighted = da.dot(X.T, da.dot(L_unweighted, X)).trace()\n",
    "smoothness_weighted = da.dot(X.T, da.dot(L_weighted, X)).trace()"
   ]
  },
  {
   "cell_type": "code",
   "execution_count": 7,
   "id": "4a016b4c",
   "metadata": {},
   "outputs": [
    {
     "name": "stdout",
     "output_type": "stream",
     "text": [
      "Smoothness with unweighted Laplacian: 1595729449.\n",
      "Smoothness with weighted Laplacian: 142548625.\n"
     ]
    }
   ],
   "source": [
    "print('Smoothness with unweighted Laplacian: {:.0f}.'.format(smoothness_unweighted.compute()))\n",
    "print('Smoothness with weighted Laplacian: {:.0f}.'.format(smoothness_weighted.compute()))"
   ]
  },
  {
   "cell_type": "markdown",
   "id": "a3fb1f54",
   "metadata": {},
   "source": [
    "### Spectrum"
   ]
  },
  {
   "cell_type": "code",
   "execution_count": 8,
   "id": "5f2f1229",
   "metadata": {},
   "outputs": [],
   "source": [
    "eigvals_weighted = np.linalg.eigvals(L_weighted_normalized.compute()).real\n",
    "eigvals_unweighted = np.linalg.eigvals(L_unweighted_normalized.compute()).real"
   ]
  },
  {
   "cell_type": "code",
   "execution_count": 9,
   "id": "16410b80",
   "metadata": {},
   "outputs": [
    {
     "data": {
      "text/plain": [
       "<BarContainer object of 388 artists>"
      ]
     },
     "execution_count": 9,
     "metadata": {},
     "output_type": "execute_result"
    },
    {
     "data": {
      "image/png": "[encoded data removed]",
      "text/plain": [
       "<Figure size 432x288 with 1 Axes>"
      ]
     },
     "metadata": {
      "needs_background": "light"
     },
     "output_type": "display_data"
    }
   ],
   "source": [
    "plt.bar(np.arange(len(eigvals_weighted)), eigvals_weighted)"
   ]
  },
  {
   "cell_type": "code",
   "execution_count": 10,
   "id": "1bf4e94f",
   "metadata": {},
   "outputs": [
    {
     "data": {
      "text/plain": [
       "<BarContainer object of 388 artists>"
      ]
     },
     "execution_count": 10,
     "metadata": {},
     "output_type": "execute_result"
    },
    {
     "data": {
      "image/png": "[encoded data removed]",
      "text/plain": [
       "<Figure size 432x288 with 1 Axes>"
      ]
     },
     "metadata": {
      "needs_background": "light"
     },
     "output_type": "display_data"
    }
   ],
   "source": [
    "plt.bar(np.arange(len(eigvals_weighted)), eigvals_unweighted)"
   ]
  },
  {
   "cell_type": "markdown",
   "id": "57cb97cd",
   "metadata": {},
   "source": [
    "# Signal reconstruction\n",
    "### Getting S: rearranging the Laplacian"
   ]
  },
  {
   "cell_type": "code",
   "execution_count": 11,
   "id": "51a1ad42",
   "metadata": {},
   "outputs": [],
   "source": [
    "S = np.array(L_unweighted)\n",
    "F = X_sparse[:,:,0].copy()\n",
    "X_reconstructed = X_sparse[:,:,0].copy()\n",
    "flag_observed = X_sparse[:,:,1][0,:]"
   ]
  },
  {
   "cell_type": "code",
   "execution_count": 12,
   "id": "674897a4",
   "metadata": {},
   "outputs": [],
   "source": [
    "insert_idx = 0\n",
    "for i, flag in enumerate(flag_observed):\n",
    "    if flag:\n",
    "        observed_col = np.copy(S[:,i])\n",
    "        S[:,i] = S[:,insert_idx]\n",
    "        S[:,insert_idx] = observed_col\n",
    "        \n",
    "        S[i,:] = S[insert_idx,:]\n",
    "        S[insert_idx,:] = observed_col.T\n",
    "        \n",
    "        observed_col = np.copy(F[:,i])\n",
    "        F[:,i] = F[:,insert_idx]\n",
    "        F[:,insert_idx] = observed_col\n",
    "        \n",
    "        insert_idx += 1"
   ]
  },
  {
   "cell_type": "code",
   "execution_count": 13,
   "id": "28e07fb6",
   "metadata": {},
   "outputs": [],
   "source": [
    "F = F[:,:insert_idx]\n",
    "S_2 = S[:insert_idx, insert_idx:]\n",
    "S_3 = S[insert_idx:, insert_idx:]\n",
    "try:\n",
    "    S_3_inv = np.linalg.inv(S_3)\n",
    "except:\n",
    "    S_3_inv = np.linalg.pinv(S_3)"
   ]
  },
  {
   "cell_type": "code",
   "execution_count": 14,
   "id": "961ff270",
   "metadata": {},
   "outputs": [],
   "source": [
    "F_hat = -np.dot(S_3_inv, np.dot(S_2.T, F.T)).T"
   ]
  },
  {
   "cell_type": "code",
   "execution_count": 15,
   "id": "d6bf4efc",
   "metadata": {},
   "outputs": [],
   "source": [
    "insert_idx = 0\n",
    "for i, flag in enumerate(flag_observed):\n",
    "    if not flag:\n",
    "        X_reconstructed[:,i] = F_hat[:,insert_idx]\n",
    "        insert_idx += 1"
   ]
  },
  {
   "cell_type": "code",
   "execution_count": 16,
   "id": "837c85c2",
   "metadata": {},
   "outputs": [],
   "source": [
    "diff = X_reconstructed-X.T"
   ]
  },
  {
   "cell_type": "code",
   "execution_count": 17,
   "id": "fdb9bc59",
   "metadata": {},
   "outputs": [
    {
     "data": {
      "text/plain": [
       "314.0723018046934"
      ]
     },
     "execution_count": 17,
     "metadata": {},
     "output_type": "execute_result"
    }
   ],
   "source": [
    "np.mean(np.abs(diff))"
   ]
  },
  {
   "cell_type": "code",
   "execution_count": null,
   "id": "c75c25b6",
   "metadata": {},
   "outputs": [],
   "source": []
  }
 ],
 "metadata": {
  "kernelspec": {
   "display_name": "Python 3 (ipykernel)",
   "language": "python",
   "name": "python3"
  },
  "language_info": {
   "codemirror_mode": {
    "name": "ipython",
    "version": 3
   },
   "file_extension": ".py",
   "mimetype": "text/x-python",
   "name": "python",
   "nbconvert_exporter": "python",
   "pygments_lexer": "ipython3",
   "version": "3.8.11"
  }
 },
 "nbformat": 4,
 "nbformat_minor": 5
}
