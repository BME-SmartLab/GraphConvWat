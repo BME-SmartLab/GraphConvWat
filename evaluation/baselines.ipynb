{
 "cells": [
  {
   "cell_type": "code",
   "execution_count": 1,
   "id": "dc39008f",
   "metadata": {},
   "outputs": [],
   "source": [
    "import os\n",
    "import dask.array as da\n",
    "import networkx as nx\n",
    "import numpy as np\n",
    "import zarr\n",
    "from epynet import Network\n",
    "\n",
    "import sys\n",
    "sys.path.insert(0, os.path.join('..', 'utils'))\n",
    "from graph_utils import get_nx_graph\n",
    "from DataReader import DataReader\n",
    "\n",
    "import matplotlib.pyplot as plt\n",
    "%matplotlib inline"
   ]
  },
  {
   "cell_type": "code",
   "execution_count": 2,
   "id": "a3bfb12b",
   "metadata": {},
   "outputs": [],
   "source": [
    "wds_id = 'anytown'"
   ]
  },
  {
   "cell_type": "code",
   "execution_count": 3,
   "id": "85cc29cb",
   "metadata": {},
   "outputs": [],
   "source": [
    "path_to_data = os.path.join('..', 'data', 'db_'+wds_id+'_doe_pumpfed_1')\n",
    "path_to_wds = os.path.join('..', 'water_networks', wds_id+'.inp')"
   ]
  },
  {
   "cell_type": "markdown",
   "id": "25f33d26",
   "metadata": {},
   "source": [
    "# Loading data\n",
    "### Loading graph"
   ]
  },
  {
   "cell_type": "code",
   "execution_count": 4,
   "id": "f405d33f",
   "metadata": {},
   "outputs": [],
   "source": [
    "wds = Network(path_to_wds)\n",
    "G_unweighted = get_nx_graph(wds, mode='binary')\n",
    "L_unweighted = da.array(nx.linalg.laplacianmatrix.laplacian_matrix(G_unweighted).todense())\n",
    "L_unweighted_normalized = da.array(nx.linalg.laplacianmatrix.normalized_laplacian_matrix(G_unweighted).todense())\n",
    "G_weighted = get_nx_graph(wds, mode='weighted')\n",
    "L_weighted = da.array(nx.linalg.laplacianmatrix.laplacian_matrix(G_weighted).todense())\n",
    "L_weighted_normalized = da.array(nx.linalg.laplacianmatrix.normalized_laplacian_matrix(G_weighted).todense())"
   ]
  },
  {
   "cell_type": "markdown",
   "id": "d49c8c6f",
   "metadata": {},
   "source": [
    "### Loading signal"
   ]
  },
  {
   "cell_type": "code",
   "execution_count": 5,
   "id": "9c46c896",
   "metadata": {},
   "outputs": [],
   "source": [
    "# Complete data\n",
    "store = zarr.open(path_to_data, mode='r')\n",
    "X = da.from_zarr(store['trn/junc_heads']).T\n",
    "\n",
    "# Parted data: observed/unobserved\n",
    "reader = DataReader(path_to_data, n_junc=len(wds.junctions.uid), obsrat=.2, seed=None)\n",
    "trn_x_complete, bias_x, scale_x = reader.read_data(\n",
    "    dataset = 'trn',\n",
    "    varname = 'junc_heads',\n",
    "    rescale = 'standardize',\n",
    "    cover = False\n",
    ")\n",
    "trn_x_sparse, bias_x, scale_x = reader.read_data(\n",
    "    dataset = 'trn',\n",
    "    varname = 'junc_heads',\n",
    "    rescale = 'standardize',\n",
    "    cover = True\n",
    ")"
   ]
  },
  {
   "cell_type": "code",
   "execution_count": 6,
   "id": "9607fad9",
   "metadata": {},
   "outputs": [
    {
     "data": {
      "text/html": [
       "<table>\n",
       "<tr>\n",
       "<td>\n",
       "<table>\n",
       "  <thead>\n",
       "    <tr><td> </td><th> Array </th><th> Chunk </th></tr>\n",
       "  </thead>\n",
       "  <tbody>\n",
       "    <tr><th> Bytes </th><td> 3.78 kiB </td> <td> 3.78 kiB </td></tr>\n",
       "    <tr><th> Shape </th><td> (22, 22) </td> <td> (22, 22) </td></tr>\n",
       "    <tr><th> Count </th><td> 2 Tasks </td><td> 1 Chunks </td></tr>\n",
       "    <tr><th> Type </th><td> float64 </td><td> numpy.matrix </td></tr>\n",
       "  </tbody>\n",
       "</table>\n",
       "</td>\n",
       "<td>\n",
       "<svg width=\"170\" height=\"170\" style=\"stroke:rgb(0,0,0);stroke-width:1\" >\n",
       "\n",
       "  <!-- Horizontal lines -->\n",
       "  <line x1=\"0\" y1=\"0\" x2=\"120\" y2=\"0\" style=\"stroke-width:2\" />\n",
       "  <line x1=\"0\" y1=\"120\" x2=\"120\" y2=\"120\" style=\"stroke-width:2\" />\n",
       "\n",
       "  <!-- Vertical lines -->\n",
       "  <line x1=\"0\" y1=\"0\" x2=\"0\" y2=\"120\" style=\"stroke-width:2\" />\n",
       "  <line x1=\"120\" y1=\"0\" x2=\"120\" y2=\"120\" style=\"stroke-width:2\" />\n",
       "\n",
       "  <!-- Colored Rectangle -->\n",
       "  <polygon points=\"0.0,0.0 120.0,0.0 120.0,120.0 0.0,120.0\" style=\"fill:#ECB172A0;stroke-width:0\"/>\n",
       "\n",
       "  <!-- Text -->\n",
       "  <text x=\"60.000000\" y=\"140.000000\" font-size=\"1.0rem\" font-weight=\"100\" text-anchor=\"middle\" >22</text>\n",
       "  <text x=\"140.000000\" y=\"60.000000\" font-size=\"1.0rem\" font-weight=\"100\" text-anchor=\"middle\" transform=\"rotate(0,140.000000,60.000000)\">22</text>\n",
       "</svg>\n",
       "</td>\n",
       "</tr>\n",
       "</table>"
      ],
      "text/plain": [
       "dask.array<array, shape=(22, 22), dtype=float64, chunksize=(22, 22), chunktype=numpy.matrix>"
      ]
     },
     "execution_count": 6,
     "metadata": {},
     "output_type": "execute_result"
    }
   ],
   "source": [
    "L_unweighted"
   ]
  },
  {
   "cell_type": "code",
   "execution_count": 7,
   "id": "486196bd",
   "metadata": {},
   "outputs": [
    {
     "data": {
      "text/html": [
       "<table>\n",
       "<tr>\n",
       "<td>\n",
       "<table>\n",
       "  <thead>\n",
       "    <tr><td> </td><th> Array </th><th> Chunk </th></tr>\n",
       "  </thead>\n",
       "  <tbody>\n",
       "    <tr><th> Bytes </th><td> 3.78 kiB </td> <td> 3.78 kiB </td></tr>\n",
       "    <tr><th> Shape </th><td> (22, 22) </td> <td> (22, 22) </td></tr>\n",
       "    <tr><th> Count </th><td> 2 Tasks </td><td> 1 Chunks </td></tr>\n",
       "    <tr><th> Type </th><td> float64 </td><td> numpy.matrix </td></tr>\n",
       "  </tbody>\n",
       "</table>\n",
       "</td>\n",
       "<td>\n",
       "<svg width=\"170\" height=\"170\" style=\"stroke:rgb(0,0,0);stroke-width:1\" >\n",
       "\n",
       "  <!-- Horizontal lines -->\n",
       "  <line x1=\"0\" y1=\"0\" x2=\"120\" y2=\"0\" style=\"stroke-width:2\" />\n",
       "  <line x1=\"0\" y1=\"120\" x2=\"120\" y2=\"120\" style=\"stroke-width:2\" />\n",
       "\n",
       "  <!-- Vertical lines -->\n",
       "  <line x1=\"0\" y1=\"0\" x2=\"0\" y2=\"120\" style=\"stroke-width:2\" />\n",
       "  <line x1=\"120\" y1=\"0\" x2=\"120\" y2=\"120\" style=\"stroke-width:2\" />\n",
       "\n",
       "  <!-- Colored Rectangle -->\n",
       "  <polygon points=\"0.0,0.0 120.0,0.0 120.0,120.0 0.0,120.0\" style=\"fill:#ECB172A0;stroke-width:0\"/>\n",
       "\n",
       "  <!-- Text -->\n",
       "  <text x=\"60.000000\" y=\"140.000000\" font-size=\"1.0rem\" font-weight=\"100\" text-anchor=\"middle\" >22</text>\n",
       "  <text x=\"140.000000\" y=\"60.000000\" font-size=\"1.0rem\" font-weight=\"100\" text-anchor=\"middle\" transform=\"rotate(0,140.000000,60.000000)\">22</text>\n",
       "</svg>\n",
       "</td>\n",
       "</tr>\n",
       "</table>"
      ],
      "text/plain": [
       "dask.array<array, shape=(22, 22), dtype=float64, chunksize=(22, 22), chunktype=numpy.matrix>"
      ]
     },
     "execution_count": 7,
     "metadata": {},
     "output_type": "execute_result"
    }
   ],
   "source": [
    "L_weighted"
   ]
  },
  {
   "cell_type": "code",
   "execution_count": 8,
   "id": "4a5e0e33",
   "metadata": {},
   "outputs": [
    {
     "data": {
      "text/html": [
       "<table>\n",
       "<tr>\n",
       "<td>\n",
       "<table>\n",
       "  <thead>\n",
       "    <tr><td> </td><th> Array </th><th> Chunk </th></tr>\n",
       "  </thead>\n",
       "  <tbody>\n",
       "    <tr><th> Bytes </th><td> 51.56 kiB </td> <td> 51.56 kiB </td></tr>\n",
       "    <tr><th> Shape </th><td> (22, 600) </td> <td> (22, 600) </td></tr>\n",
       "    <tr><th> Count </th><td> 3 Tasks </td><td> 1 Chunks </td></tr>\n",
       "    <tr><th> Type </th><td> float32 </td><td> numpy.ndarray </td></tr>\n",
       "  </tbody>\n",
       "</table>\n",
       "</td>\n",
       "<td>\n",
       "<svg width=\"170\" height=\"82\" style=\"stroke:rgb(0,0,0);stroke-width:1\" >\n",
       "\n",
       "  <!-- Horizontal lines -->\n",
       "  <line x1=\"0\" y1=\"0\" x2=\"120\" y2=\"0\" style=\"stroke-width:2\" />\n",
       "  <line x1=\"0\" y1=\"32\" x2=\"120\" y2=\"32\" style=\"stroke-width:2\" />\n",
       "\n",
       "  <!-- Vertical lines -->\n",
       "  <line x1=\"0\" y1=\"0\" x2=\"0\" y2=\"32\" style=\"stroke-width:2\" />\n",
       "  <line x1=\"120\" y1=\"0\" x2=\"120\" y2=\"32\" style=\"stroke-width:2\" />\n",
       "\n",
       "  <!-- Colored Rectangle -->\n",
       "  <polygon points=\"0.0,0.0 120.0,0.0 120.0,32.6028131375804 0.0,32.6028131375804\" style=\"fill:#ECB172A0;stroke-width:0\"/>\n",
       "\n",
       "  <!-- Text -->\n",
       "  <text x=\"60.000000\" y=\"52.602813\" font-size=\"1.0rem\" font-weight=\"100\" text-anchor=\"middle\" >600</text>\n",
       "  <text x=\"140.000000\" y=\"16.301407\" font-size=\"1.0rem\" font-weight=\"100\" text-anchor=\"middle\" transform=\"rotate(0,140.000000,16.301407)\">22</text>\n",
       "</svg>\n",
       "</td>\n",
       "</tr>\n",
       "</table>"
      ],
      "text/plain": [
       "dask.array<transpose, shape=(22, 600), dtype=float32, chunksize=(22, 600), chunktype=numpy.ndarray>"
      ]
     },
     "execution_count": 8,
     "metadata": {},
     "output_type": "execute_result"
    }
   ],
   "source": [
    "X"
   ]
  },
  {
   "cell_type": "markdown",
   "id": "996e030f",
   "metadata": {},
   "source": [
    "# Graph signal processing\n",
    "### Smoothness"
   ]
  },
  {
   "cell_type": "code",
   "execution_count": 9,
   "id": "688226b4",
   "metadata": {},
   "outputs": [],
   "source": [
    "smoothness_unweighted = da.dot(X.T, da.dot(L_unweighted, X)).trace()\n",
    "smoothness_weighted = da.dot(X.T, da.dot(L_weighted, X)).trace()"
   ]
  },
  {
   "cell_type": "code",
   "execution_count": 10,
   "id": "4a016b4c",
   "metadata": {},
   "outputs": [
    {
     "name": "stdout",
     "output_type": "stream",
     "text": [
      "Smoothness with unweighted Laplacian: 13191738.\n",
      "Smoothness with weighted Laplacian: 2499442.\n"
     ]
    }
   ],
   "source": [
    "print('Smoothness with unweighted Laplacian: {:.0f}.'.format(smoothness_unweighted.compute()))\n",
    "print('Smoothness with weighted Laplacian: {:.0f}.'.format(smoothness_weighted.compute()))"
   ]
  },
  {
   "cell_type": "markdown",
   "id": "a3fb1f54",
   "metadata": {},
   "source": [
    "### Spectrum"
   ]
  },
  {
   "cell_type": "code",
   "execution_count": 11,
   "id": "5f2f1229",
   "metadata": {},
   "outputs": [],
   "source": [
    "eigvals_weighted = np.linalg.eigvals(L_weighted_normalized.compute()).real\n",
    "eigvals_unweighted = np.linalg.eigvals(L_unweighted_normalized.compute()).real"
   ]
  },
  {
   "cell_type": "code",
   "execution_count": 12,
   "id": "16410b80",
   "metadata": {},
   "outputs": [
    {
     "data": {
      "text/plain": [
       "<BarContainer object of 22 artists>"
      ]
     },
     "execution_count": 12,
     "metadata": {},
     "output_type": "execute_result"
    },
    {
     "data": {
      "image/png": "[encoded data removed]",
      "text/plain": [
       "<Figure size 432x288 with 1 Axes>"
      ]
     },
     "metadata": {
      "needs_background": "light"
     },
     "output_type": "display_data"
    }
   ],
   "source": [
    "plt.bar(np.arange(len(eigvals_weighted)), eigvals_weighted)"
   ]
  },
  {
   "cell_type": "code",
   "execution_count": 13,
   "id": "1bf4e94f",
   "metadata": {},
   "outputs": [
    {
     "data": {
      "text/plain": [
       "<BarContainer object of 22 artists>"
      ]
     },
     "execution_count": 13,
     "metadata": {},
     "output_type": "execute_result"
    },
    {
     "data": {
      "image/png": "[encoded data removed]",
      "text/plain": [
       "<Figure size 432x288 with 1 Axes>"
      ]
     },
     "metadata": {
      "needs_background": "light"
     },
     "output_type": "display_data"
    }
   ],
   "source": [
    "plt.bar(np.arange(len(eigvals_weighted)), eigvals_unweighted)"
   ]
  }
 ],
 "metadata": {
  "kernelspec": {
   "display_name": "Python 3 (ipykernel)",
   "language": "python",
   "name": "python3"
  },
  "language_info": {
   "codemirror_mode": {
    "name": "ipython",
    "version": 3
   },
   "file_extension": ".py",
   "mimetype": "text/x-python",
   "name": "python",
   "nbconvert_exporter": "python",
   "pygments_lexer": "ipython3",
   "version": "3.8.11"
  }
 },
 "nbformat": 4,
 "nbformat_minor": 5
}
