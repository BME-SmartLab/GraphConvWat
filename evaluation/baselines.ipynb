{
 "cells": [
  {
   "cell_type": "code",
   "execution_count": 1,
   "id": "dc39008f",
   "metadata": {},
   "outputs": [],
   "source": [
    "import os\n",
    "import dask.array as da\n",
    "import networkx as nx\n",
    "import zarr\n",
    "from epynet import Network\n",
    "\n",
    "import sys\n",
    "sys.path.insert(0, os.path.join('..', 'utils'))\n",
    "from graph_utils import get_nx_graph"
   ]
  },
  {
   "cell_type": "code",
   "execution_count": 2,
   "id": "a3bfb12b",
   "metadata": {},
   "outputs": [],
   "source": [
    "wds_id = 'richmond'"
   ]
  },
  {
   "cell_type": "code",
   "execution_count": 3,
   "id": "85cc29cb",
   "metadata": {},
   "outputs": [],
   "source": [
    "path_to_data = os.path.join('..', 'data', 'db_'+wds_id+'_doe_pumpfed_1')\n",
    "path_to_wds = os.path.join('..', 'water_networks', wds_id+'.inp')"
   ]
  },
  {
   "cell_type": "markdown",
   "id": "25f33d26",
   "metadata": {},
   "source": [
    "# Loading data"
   ]
  },
  {
   "cell_type": "code",
   "execution_count": 4,
   "id": "f405d33f",
   "metadata": {},
   "outputs": [],
   "source": [
    "wds = Network(path_to_wds)\n",
    "G_unweighted = get_nx_graph(wds, mode='binary')\n",
    "L_unweighted = da.array(nx.linalg.laplacianmatrix.laplacian_matrix(G_unweighted).todense())\n",
    "G_weighted = get_nx_graph(wds, mode='weighted')\n",
    "L_weighted = da.array(nx.linalg.laplacianmatrix.laplacian_matrix(G_weighted).todense())\n",
    "\n",
    "store = zarr.open(path_to_data, mode='r')\n",
    "X = da.from_zarr(store['trn/junc_heads']).T"
   ]
  },
  {
   "cell_type": "code",
   "execution_count": 5,
   "id": "9607fad9",
   "metadata": {},
   "outputs": [
    {
     "data": {
      "text/html": [
       "<table>\n",
       "<tr>\n",
       "<td>\n",
       "<table>\n",
       "  <thead>\n",
       "    <tr><td> </td><th> Array </th><th> Chunk </th></tr>\n",
       "  </thead>\n",
       "  <tbody>\n",
       "    <tr><th> Bytes </th><td> 5.71 MiB </td> <td> 5.71 MiB </td></tr>\n",
       "    <tr><th> Shape </th><td> (865, 865) </td> <td> (865, 865) </td></tr>\n",
       "    <tr><th> Count </th><td> 2 Tasks </td><td> 1 Chunks </td></tr>\n",
       "    <tr><th> Type </th><td> float64 </td><td> numpy.matrix </td></tr>\n",
       "  </tbody>\n",
       "</table>\n",
       "</td>\n",
       "<td>\n",
       "<svg width=\"170\" height=\"170\" style=\"stroke:rgb(0,0,0);stroke-width:1\" >\n",
       "\n",
       "  <!-- Horizontal lines -->\n",
       "  <line x1=\"0\" y1=\"0\" x2=\"120\" y2=\"0\" style=\"stroke-width:2\" />\n",
       "  <line x1=\"0\" y1=\"120\" x2=\"120\" y2=\"120\" style=\"stroke-width:2\" />\n",
       "\n",
       "  <!-- Vertical lines -->\n",
       "  <line x1=\"0\" y1=\"0\" x2=\"0\" y2=\"120\" style=\"stroke-width:2\" />\n",
       "  <line x1=\"120\" y1=\"0\" x2=\"120\" y2=\"120\" style=\"stroke-width:2\" />\n",
       "\n",
       "  <!-- Colored Rectangle -->\n",
       "  <polygon points=\"0.0,0.0 120.0,0.0 120.0,120.0 0.0,120.0\" style=\"fill:#ECB172A0;stroke-width:0\"/>\n",
       "\n",
       "  <!-- Text -->\n",
       "  <text x=\"60.000000\" y=\"140.000000\" font-size=\"1.0rem\" font-weight=\"100\" text-anchor=\"middle\" >865</text>\n",
       "  <text x=\"140.000000\" y=\"60.000000\" font-size=\"1.0rem\" font-weight=\"100\" text-anchor=\"middle\" transform=\"rotate(-90,140.000000,60.000000)\">865</text>\n",
       "</svg>\n",
       "</td>\n",
       "</tr>\n",
       "</table>"
      ],
      "text/plain": [
       "dask.array<array, shape=(865, 865), dtype=float64, chunksize=(865, 865), chunktype=numpy.matrix>"
      ]
     },
     "execution_count": 5,
     "metadata": {},
     "output_type": "execute_result"
    }
   ],
   "source": [
    "L_unweighted"
   ]
  },
  {
   "cell_type": "code",
   "execution_count": 6,
   "id": "486196bd",
   "metadata": {},
   "outputs": [
    {
     "data": {
      "text/html": [
       "<table>\n",
       "<tr>\n",
       "<td>\n",
       "<table>\n",
       "  <thead>\n",
       "    <tr><td> </td><th> Array </th><th> Chunk </th></tr>\n",
       "  </thead>\n",
       "  <tbody>\n",
       "    <tr><th> Bytes </th><td> 5.71 MiB </td> <td> 5.71 MiB </td></tr>\n",
       "    <tr><th> Shape </th><td> (865, 865) </td> <td> (865, 865) </td></tr>\n",
       "    <tr><th> Count </th><td> 2 Tasks </td><td> 1 Chunks </td></tr>\n",
       "    <tr><th> Type </th><td> float64 </td><td> numpy.matrix </td></tr>\n",
       "  </tbody>\n",
       "</table>\n",
       "</td>\n",
       "<td>\n",
       "<svg width=\"170\" height=\"170\" style=\"stroke:rgb(0,0,0);stroke-width:1\" >\n",
       "\n",
       "  <!-- Horizontal lines -->\n",
       "  <line x1=\"0\" y1=\"0\" x2=\"120\" y2=\"0\" style=\"stroke-width:2\" />\n",
       "  <line x1=\"0\" y1=\"120\" x2=\"120\" y2=\"120\" style=\"stroke-width:2\" />\n",
       "\n",
       "  <!-- Vertical lines -->\n",
       "  <line x1=\"0\" y1=\"0\" x2=\"0\" y2=\"120\" style=\"stroke-width:2\" />\n",
       "  <line x1=\"120\" y1=\"0\" x2=\"120\" y2=\"120\" style=\"stroke-width:2\" />\n",
       "\n",
       "  <!-- Colored Rectangle -->\n",
       "  <polygon points=\"0.0,0.0 120.0,0.0 120.0,120.0 0.0,120.0\" style=\"fill:#ECB172A0;stroke-width:0\"/>\n",
       "\n",
       "  <!-- Text -->\n",
       "  <text x=\"60.000000\" y=\"140.000000\" font-size=\"1.0rem\" font-weight=\"100\" text-anchor=\"middle\" >865</text>\n",
       "  <text x=\"140.000000\" y=\"60.000000\" font-size=\"1.0rem\" font-weight=\"100\" text-anchor=\"middle\" transform=\"rotate(-90,140.000000,60.000000)\">865</text>\n",
       "</svg>\n",
       "</td>\n",
       "</tr>\n",
       "</table>"
      ],
      "text/plain": [
       "dask.array<array, shape=(865, 865), dtype=float64, chunksize=(865, 865), chunktype=numpy.matrix>"
      ]
     },
     "execution_count": 6,
     "metadata": {},
     "output_type": "execute_result"
    }
   ],
   "source": [
    "L_weighted"
   ]
  },
  {
   "cell_type": "code",
   "execution_count": 7,
   "id": "4a5e0e33",
   "metadata": {},
   "outputs": [
    {
     "data": {
      "text/html": [
       "<table>\n",
       "<tr>\n",
       "<td>\n",
       "<table>\n",
       "  <thead>\n",
       "    <tr><td> </td><th> Array </th><th> Chunk </th></tr>\n",
       "  </thead>\n",
       "  <tbody>\n",
       "    <tr><th> Bytes </th><td> 39.59 MiB </td> <td> 39.59 MiB </td></tr>\n",
       "    <tr><th> Shape </th><td> (865, 11998) </td> <td> (865, 11998) </td></tr>\n",
       "    <tr><th> Count </th><td> 3 Tasks </td><td> 1 Chunks </td></tr>\n",
       "    <tr><th> Type </th><td> float32 </td><td> numpy.ndarray </td></tr>\n",
       "  </tbody>\n",
       "</table>\n",
       "</td>\n",
       "<td>\n",
       "<svg width=\"170\" height=\"86\" style=\"stroke:rgb(0,0,0);stroke-width:1\" >\n",
       "\n",
       "  <!-- Horizontal lines -->\n",
       "  <line x1=\"0\" y1=\"0\" x2=\"120\" y2=\"0\" style=\"stroke-width:2\" />\n",
       "  <line x1=\"0\" y1=\"36\" x2=\"120\" y2=\"36\" style=\"stroke-width:2\" />\n",
       "\n",
       "  <!-- Vertical lines -->\n",
       "  <line x1=\"0\" y1=\"0\" x2=\"0\" y2=\"36\" style=\"stroke-width:2\" />\n",
       "  <line x1=\"120\" y1=\"0\" x2=\"120\" y2=\"36\" style=\"stroke-width:2\" />\n",
       "\n",
       "  <!-- Colored Rectangle -->\n",
       "  <polygon points=\"0.0,0.0 120.0,0.0 120.0,36.71467980557203 0.0,36.71467980557203\" style=\"fill:#ECB172A0;stroke-width:0\"/>\n",
       "\n",
       "  <!-- Text -->\n",
       "  <text x=\"60.000000\" y=\"56.714680\" font-size=\"1.0rem\" font-weight=\"100\" text-anchor=\"middle\" >11998</text>\n",
       "  <text x=\"140.000000\" y=\"18.357340\" font-size=\"1.0rem\" font-weight=\"100\" text-anchor=\"middle\" transform=\"rotate(-90,140.000000,18.357340)\">865</text>\n",
       "</svg>\n",
       "</td>\n",
       "</tr>\n",
       "</table>"
      ],
      "text/plain": [
       "dask.array<transpose, shape=(865, 11998), dtype=float32, chunksize=(865, 11998), chunktype=numpy.ndarray>"
      ]
     },
     "execution_count": 7,
     "metadata": {},
     "output_type": "execute_result"
    }
   ],
   "source": [
    "X"
   ]
  },
  {
   "cell_type": "markdown",
   "id": "996e030f",
   "metadata": {},
   "source": [
    "# Smoothness"
   ]
  },
  {
   "cell_type": "code",
   "execution_count": 8,
   "id": "688226b4",
   "metadata": {},
   "outputs": [],
   "source": [
    "smoothness_unweighted = da.dot(X.T, da.dot(L_unweighted, X)).trace()\n",
    "smoothness_weighted = da.dot(X.T, da.dot(L_weighted, X)).trace()"
   ]
  },
  {
   "cell_type": "code",
   "execution_count": 9,
   "id": "4a016b4c",
   "metadata": {},
   "outputs": [
    {
     "name": "stdout",
     "output_type": "stream",
     "text": [
      "11373596593.886005\n",
      "757848140.257787\n"
     ]
    }
   ],
   "source": [
    "print(smoothness_unweighted.compute())\n",
    "print(smoothness_weighted.compute())"
   ]
  },
  {
   "cell_type": "code",
   "execution_count": null,
   "id": "3d714604",
   "metadata": {},
   "outputs": [],
   "source": []
  }
 ],
 "metadata": {
  "kernelspec": {
   "display_name": "Python 3 (ipykernel)",
   "language": "python",
   "name": "python3"
  },
  "language_info": {
   "codemirror_mode": {
    "name": "ipython",
    "version": 3
   },
   "file_extension": ".py",
   "mimetype": "text/x-python",
   "name": "python",
   "nbconvert_exporter": "python",
   "pygments_lexer": "ipython3",
   "version": "3.8.11"
  }
 },
 "nbformat": 4,
 "nbformat_minor": 5
}
