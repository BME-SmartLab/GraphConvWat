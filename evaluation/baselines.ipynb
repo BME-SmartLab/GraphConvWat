{
 "cells": [
  {
   "cell_type": "code",
   "execution_count": null,
   "id": "dc39008f",
   "metadata": {},
   "outputs": [],
   "source": [
    "import os\n",
    "import networkx as nx\n",
    "import numpy as np\n",
    "from epynet import Network\n",
    "\n",
    "import sys\n",
    "sys.path.insert(0, os.path.join('..', 'utils'))\n",
    "from graph_utils import get_nx_graph\n",
    "from DataReader import DataReader\n",
    "from unsupervised_methods import linear_regression\n",
    "\n",
    "import matplotlib.pyplot as plt\n",
    "%matplotlib inline"
   ]
  },
  {
   "cell_type": "code",
   "execution_count": null,
   "id": "a3bfb12b",
   "metadata": {},
   "outputs": [],
   "source": [
    "wds_id = 'richmond'\n",
    "obsrat = .8"
   ]
  },
  {
   "cell_type": "code",
   "execution_count": null,
   "id": "85cc29cb",
   "metadata": {},
   "outputs": [],
   "source": [
    "path_to_data = os.path.join('..', 'data', 'db_'+wds_id+'_doe_pumpfed_1')\n",
    "path_to_wds = os.path.join('..', 'water_networks', wds_id+'.inp')"
   ]
  },
  {
   "cell_type": "markdown",
   "id": "25f33d26",
   "metadata": {},
   "source": [
    "# Loading data\n",
    "### Loading graph"
   ]
  },
  {
   "cell_type": "code",
   "execution_count": null,
   "id": "f405d33f",
   "metadata": {},
   "outputs": [],
   "source": [
    "wds = Network(path_to_wds)\n",
    "G_unweighted = get_nx_graph(wds, mode='binary')\n",
    "L_unweighted = np.array(nx.linalg.laplacianmatrix.laplacian_matrix(G_unweighted).todense())\n",
    "L_unweighted_normalized = np.array(nx.linalg.laplacianmatrix.normalized_laplacian_matrix(G_unweighted).todense())\n",
    "G_weighted = get_nx_graph(wds, mode='weighted')\n",
    "L_weighted = np.array(nx.linalg.laplacianmatrix.laplacian_matrix(G_weighted).todense())\n",
    "L_weighted_normalized = np.array(nx.linalg.laplacianmatrix.normalized_laplacian_matrix(G_weighted).todense())"
   ]
  },
  {
   "cell_type": "markdown",
   "id": "d49c8c6f",
   "metadata": {},
   "source": [
    "### Loading signal"
   ]
  },
  {
   "cell_type": "code",
   "execution_count": null,
   "id": "9c46c896",
   "metadata": {},
   "outputs": [],
   "source": [
    "reader = DataReader(path_to_data, n_junc=len(wds.junctions.uid), obsrat=obsrat, seed=None)\n",
    "X_complete, _, _ = reader.read_data(\n",
    "    dataset = 'tst',\n",
    "    varname = 'junc_heads',\n",
    "    rescale = 'standardize',\n",
    "    cover = False\n",
    ")\n",
    "X_sparse, bias, scale = reader.read_data(\n",
    "    dataset = 'tst',\n",
    "    varname = 'junc_heads',\n",
    "    rescale = 'standardize',\n",
    "    cover = True\n",
    ")"
   ]
  },
  {
   "cell_type": "markdown",
   "id": "996e030f",
   "metadata": {},
   "source": [
    "# Graph signal processing\n",
    "### Smoothness"
   ]
  },
  {
   "cell_type": "code",
   "execution_count": null,
   "id": "688226b4",
   "metadata": {},
   "outputs": [],
   "source": [
    "X = X_complete[:,:,0].T\n",
    "smoothness_unweighted = np.dot(X.T, np.dot(L_unweighted, X)).trace()\n",
    "smoothness_weighted = np.dot(X.T, np.dot(L_weighted, X)).trace()"
   ]
  },
  {
   "cell_type": "code",
   "execution_count": null,
   "id": "4a016b4c",
   "metadata": {},
   "outputs": [],
   "source": [
    "print('Smoothness with unweighted Laplacian: {:.0f}.'.format(smoothness_unweighted))\n",
    "print('Smoothness with weighted Laplacian: {:.0f}.'.format(smoothness_weighted))"
   ]
  },
  {
   "cell_type": "markdown",
   "id": "a3fb1f54",
   "metadata": {},
   "source": [
    "### Spectrum"
   ]
  },
  {
   "cell_type": "code",
   "execution_count": null,
   "id": "5f2f1229",
   "metadata": {},
   "outputs": [],
   "source": [
    "eigvals_weighted = np.linalg.eigvals(L_weighted_normalized).real\n",
    "eigvals_unweighted = np.linalg.eigvals(L_unweighted_normalized).real"
   ]
  },
  {
   "cell_type": "code",
   "execution_count": null,
   "id": "16410b80",
   "metadata": {},
   "outputs": [],
   "source": [
    "plt.bar(np.arange(len(eigvals_weighted)), eigvals_weighted)"
   ]
  },
  {
   "cell_type": "code",
   "execution_count": null,
   "id": "1bf4e94f",
   "metadata": {},
   "outputs": [],
   "source": [
    "plt.bar(np.arange(len(eigvals_weighted)), eigvals_unweighted)"
   ]
  },
  {
   "cell_type": "markdown",
   "id": "57cb97cd",
   "metadata": {},
   "source": [
    "# Signal reconstruction\n",
    "### Linear regression\n",
    "##### Own solution\n",
    "Based on the paper of Belkin et al.: [https://doi.org/10.1007/978-3-540-27819-1_43](https://doi.org/10.1007/978-3-540-27819-1_43)."
   ]
  },
  {
   "cell_type": "code",
   "execution_count": null,
   "id": "9a4d2ed3",
   "metadata": {},
   "outputs": [],
   "source": [
    "X_hat = linear_regression(L_weighted, X_sparse)"
   ]
  },
  {
   "cell_type": "markdown",
   "id": "6996e643",
   "metadata": {},
   "source": [
    "#####  Comparison with Yiye Jiang's solution\n",
    "Published in [https://arxiv.org/abs/2004.11815](https://arxiv.org/abs/2004.11815)."
   ]
  },
  {
   "cell_type": "code",
   "execution_count": null,
   "id": "70d10a4f",
   "metadata": {},
   "outputs": [],
   "source": [
    "sys.path.insert(0, os.path.join('..', '..', 'sensor_selection_NTS'))\n",
    "from utils import ReLin0"
   ]
  },
  {
   "cell_type": "code",
   "execution_count": null,
   "id": "9f751f4a",
   "metadata": {},
   "outputs": [],
   "source": [
    "I = np.where(X_sparse[0,:,1] == 0)[0]\n",
    "Ic = np.array(list(set(np.arange(X_complete.shape[1]))-set(I)), dtype=int)\n",
    "Ic.sort()\n",
    "Sigma_hat = L_weighted\n",
    "X = X_complete[:,Ic][:,:,0]\n",
    "Y = X_complete[:,I][:,:,0]"
   ]
  },
  {
   "cell_type": "code",
   "execution_count": null,
   "id": "fca027c9",
   "metadata": {},
   "outputs": [],
   "source": [
    "Y_hat, _ = ReLin0(I, Sigma_hat, X, Y)"
   ]
  },
  {
   "cell_type": "markdown",
   "id": "4e022827",
   "metadata": {},
   "source": [
    "##### Comparison"
   ]
  },
  {
   "cell_type": "code",
   "execution_count": null,
   "id": "748a8ac1",
   "metadata": {},
   "outputs": [],
   "source": [
    "Y = Y*scale+bias\n",
    "Y_hat = Y_hat*scale+bias\n",
    "X_hat = X_hat*scale+bias"
   ]
  },
  {
   "cell_type": "code",
   "execution_count": null,
   "id": "fcf31f29",
   "metadata": {},
   "outputs": [],
   "source": [
    "Y[:5,:]"
   ]
  },
  {
   "cell_type": "code",
   "execution_count": null,
   "id": "bfd33ec0",
   "metadata": {},
   "outputs": [],
   "source": [
    "Y_hat[:5,:]"
   ]
  },
  {
   "cell_type": "code",
   "execution_count": null,
   "id": "de1f2813",
   "metadata": {},
   "outputs": [],
   "source": [
    "X_hat[:5,I]"
   ]
  },
  {
   "cell_type": "code",
   "execution_count": null,
   "id": "b9fa759f",
   "metadata": {},
   "outputs": [],
   "source": [
    "print(np.linalg.norm(Y-Y_hat)/np.shape(X_sparse)[0])\n",
    "print(np.mean(Y-Y_hat))\n",
    "print(np.std(Y-Y_hat))"
   ]
  },
  {
   "cell_type": "code",
   "execution_count": null,
   "id": "abbe9bd9",
   "metadata": {},
   "outputs": [],
   "source": [
    "print(np.linalg.norm(Y-X_hat[:,I])/np.shape(X_sparse)[0])\n",
    "print(np.mean(Y-X_hat[:,I]))\n",
    "print(np.std(Y-X_hat[:,I]))"
   ]
  }
 ],
 "metadata": {
  "kernelspec": {
   "display_name": "Python 3 (ipykernel)",
   "language": "python",
   "name": "python3"
  },
  "language_info": {
   "codemirror_mode": {
    "name": "ipython",
    "version": 3
   },
   "file_extension": ".py",
   "mimetype": "text/x-python",
   "name": "python",
   "nbconvert_exporter": "python",
   "pygments_lexer": "ipython3",
   "version": "3.8.11"
  }
 },
 "nbformat": 4,
 "nbformat_minor": 5
}
