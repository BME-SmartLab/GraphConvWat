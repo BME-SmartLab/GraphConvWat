{
 "cells": [
  {
   "cell_type": "code",
   "execution_count": null,
   "metadata": {},
   "outputs": [],
   "source": [
    "import os\n",
    "import optuna\n",
    "import pandas as pd\n",
    "import seaborn as sns"
   ]
  },
  {
   "cell_type": "code",
   "execution_count": null,
   "metadata": {},
   "outputs": [],
   "source": [
    "!ls ../experiments/hyperparams"
   ]
  },
  {
   "cell_type": "code",
   "execution_count": null,
   "metadata": {},
   "outputs": [],
   "source": [
    "db_path = 'sqlite:///../experiments/hyperparams/anytown_ho-0.05.db'\n",
    "studies = optuna.get_all_study_summaries(storage=db_path)\n",
    "study_names = []\n",
    "for study in studies:\n",
    "    study_names.append(study.study_name)\n",
    "print(study_names)"
   ]
  },
  {
   "cell_type": "code",
   "execution_count": null,
   "metadata": {},
   "outputs": [],
   "source": [
    "df_dict = dict()\n",
    "for obsrat in [0.05, 0.1, 0.2, 0.4, 0.8]:\n",
    "    db_path = 'sqlite:///../experiments/hyperparams/anytown_ho-'+str(obsrat)+'.db'\n",
    "    study = optuna.load_study(\n",
    "        study_name = 'v4',\n",
    "        storage = db_path\n",
    "        )\n",
    "    df = study.trials_dataframe()\n",
    "    df_dict[str(obsrat)] = df"
   ]
  },
  {
   "cell_type": "code",
   "execution_count": null,
   "metadata": {},
   "outputs": [],
   "source": [
    "print(df_dict.keys())"
   ]
  },
  {
   "cell_type": "markdown",
   "metadata": {},
   "source": [
    "# 0.05"
   ]
  },
  {
   "cell_type": "code",
   "execution_count": null,
   "metadata": {},
   "outputs": [],
   "source": [
    "df = df_dict['0.05']\n",
    "df.drop(index=df.nlargest(5, 'value').index, inplace=True)\n",
    "df.drop(df.index[df['params_adjacency'] == 'pruned'], inplace=True)\n",
    "sns.swarmplot(\n",
    "    data = df,\n",
    "    x = 'params_adjacency',\n",
    "    y = 'value',\n",
    "    hue = 'params_n_layers'\n",
    "    )\n",
    "df.nsmallest(5, 'value')"
   ]
  },
  {
   "cell_type": "markdown",
   "metadata": {},
   "source": [
    "# 0.1"
   ]
  },
  {
   "cell_type": "code",
   "execution_count": null,
   "metadata": {},
   "outputs": [],
   "source": [
    "df = df_dict['0.1']\n",
    "df.drop(index=df.nlargest(5, 'value').index, inplace=True)\n",
    "df.drop(df.index[df['params_adjacency'] == 'pruned'], inplace=True)\n",
    "sns.swarmplot(\n",
    "    data = df,\n",
    "    x = 'params_adjacency',\n",
    "    y = 'value',\n",
    "    hue = 'params_n_layers'\n",
    "    )\n",
    "df.nsmallest(5, 'value')"
   ]
  },
  {
   "cell_type": "markdown",
   "metadata": {},
   "source": [
    "# 0.2"
   ]
  },
  {
   "cell_type": "code",
   "execution_count": null,
   "metadata": {},
   "outputs": [],
   "source": [
    "df = df_dict['0.2']\n",
    "df.drop(index=df.nlargest(5, 'value').index, inplace=True)\n",
    "df.drop(df.index[df['params_adjacency'] == 'pruned'], inplace=True)\n",
    "sns.swarmplot(\n",
    "    data = df,\n",
    "    x = 'params_adjacency',\n",
    "    y = 'value',\n",
    "    hue = 'params_n_layers'\n",
    "    )\n",
    "df.nsmallest(5, 'value')"
   ]
  },
  {
   "cell_type": "markdown",
   "metadata": {},
   "source": [
    "# 0.4"
   ]
  },
  {
   "cell_type": "code",
   "execution_count": null,
   "metadata": {},
   "outputs": [],
   "source": [
    "df = df_dict['0.4']\n",
    "df.drop(index=df.nlargest(15, 'value').index, inplace=True)\n",
    "df.drop(df.index[df['params_adjacency'] == 'pruned'], inplace=True)\n",
    "sns.swarmplot(\n",
    "    data = df,\n",
    "    x = 'params_adjacency',\n",
    "    y = 'value',\n",
    "    hue = 'params_n_layers'\n",
    "    )\n",
    "df.nsmallest(5, 'value')"
   ]
  },
  {
   "cell_type": "markdown",
   "metadata": {},
   "source": [
    "# 0.8"
   ]
  },
  {
   "cell_type": "code",
   "execution_count": null,
   "metadata": {},
   "outputs": [],
   "source": [
    "df = df_dict['0.8']\n",
    "df.drop(index=df.nlargest(10, 'value').index, inplace=True)\n",
    "df.drop(df.index[df['params_adjacency'] == 'pruned'], inplace=True)\n",
    "sns.swarmplot(\n",
    "    data = df,\n",
    "    x = 'params_adjacency',\n",
    "    y = 'value',\n",
    "    hue = 'params_n_layers'\n",
    "    )\n",
    "df.nsmallest(5, 'value')"
   ]
  },
  {
   "cell_type": "code",
   "execution_count": null,
   "metadata": {},
   "outputs": [],
   "source": []
  }
 ],
 "metadata": {
  "kernelspec": {
   "display_name": "Python 3",
   "language": "python",
   "name": "python3"
  },
  "language_info": {
   "codemirror_mode": {
    "name": "ipython",
    "version": 3
   },
   "file_extension": ".py",
   "mimetype": "text/x-python",
   "name": "python",
   "nbconvert_exporter": "python",
   "pygments_lexer": "ipython3",
   "version": "3.8.8"
  }
 },
 "nbformat": 4,
 "nbformat_minor": 4
}
