{
 "cells": [
  {
   "cell_type": "code",
   "execution_count": null,
   "metadata": {},
   "outputs": [],
   "source": [
    "import os\n",
    "import optuna\n",
    "import pandas as pd\n",
    "import seaborn as sns"
   ]
  },
  {
   "cell_type": "code",
   "execution_count": null,
   "metadata": {},
   "outputs": [],
   "source": [
    "!ls ../experiments/hyperparams"
   ]
  },
  {
   "cell_type": "code",
   "execution_count": null,
   "metadata": {},
   "outputs": [],
   "source": [
    "db_path = 'sqlite:///../experiments/hyperparams/anytown_ho.db'\n",
    "studies = optuna.get_all_study_summaries(storage=db_path)"
   ]
  },
  {
   "cell_type": "code",
   "execution_count": null,
   "metadata": {},
   "outputs": [],
   "source": [
    "study_names = []\n",
    "for study in studies:\n",
    "    study_names.append(study.study_name)"
   ]
  },
  {
   "cell_type": "code",
   "execution_count": null,
   "metadata": {},
   "outputs": [],
   "source": [
    "df_dict = dict()\n",
    "for name in study_names:\n",
    "    study = optuna.load_study(\n",
    "        study_name = name,\n",
    "        storage = db_path\n",
    "        )\n",
    "    df = study.trials_dataframe()\n",
    "    df_dict[name] = df"
   ]
  },
  {
   "cell_type": "code",
   "execution_count": null,
   "metadata": {},
   "outputs": [],
   "source": [
    "print(study_names)"
   ]
  },
  {
   "cell_type": "markdown",
   "metadata": {},
   "source": [
    "# 0.05"
   ]
  },
  {
   "cell_type": "code",
   "execution_count": null,
   "metadata": {},
   "outputs": [],
   "source": [
    "df = df_dict['v2-0.05']"
   ]
  },
  {
   "cell_type": "code",
   "execution_count": null,
   "metadata": {},
   "outputs": [],
   "source": [
    "df.nsmallest(5, 'value')"
   ]
  },
  {
   "cell_type": "code",
   "execution_count": null,
   "metadata": {},
   "outputs": [],
   "source": [
    "sns.swarmplot(\n",
    "    data = df,\n",
    "    x = 'params_adjacency',\n",
    "    y = 'value',\n",
    "    hue = 'params_n_layers'\n",
    "    )"
   ]
  },
  {
   "cell_type": "code",
   "execution_count": null,
   "metadata": {},
   "outputs": [],
   "source": [
    "df['params_adjacency'].value_counts()"
   ]
  },
  {
   "cell_type": "code",
   "execution_count": null,
   "metadata": {},
   "outputs": [],
   "source": [
    "df.drop(df.index[df['params_adjacency'] == 'pruned'], inplace=True)\n",
    "df.drop(index=df.nlargest(15, 'value').index, inplace=True)\n",
    "sns.swarmplot(\n",
    "    data = df,\n",
    "    x = 'params_adjacency',\n",
    "    y = 'value',\n",
    "    hue = 'params_n_layers'\n",
    "    )"
   ]
  },
  {
   "cell_type": "markdown",
   "metadata": {},
   "source": [
    "# 0.1"
   ]
  },
  {
   "cell_type": "code",
   "execution_count": null,
   "metadata": {},
   "outputs": [],
   "source": [
    "df = df_dict['v2-0.1']"
   ]
  },
  {
   "cell_type": "code",
   "execution_count": null,
   "metadata": {},
   "outputs": [],
   "source": [
    "df.nsmallest(5, 'value')"
   ]
  },
  {
   "cell_type": "code",
   "execution_count": null,
   "metadata": {},
   "outputs": [],
   "source": [
    "df.drop(index=df.nlargest(5, 'value').index, inplace=True)"
   ]
  },
  {
   "cell_type": "code",
   "execution_count": null,
   "metadata": {},
   "outputs": [],
   "source": [
    "sns.swarmplot(\n",
    "    data = df,\n",
    "    x = 'params_adjacency',\n",
    "    y = 'value',\n",
    "    hue = 'params_n_layers'\n",
    "    )"
   ]
  },
  {
   "cell_type": "code",
   "execution_count": null,
   "metadata": {},
   "outputs": [],
   "source": [
    "df['params_adjacency'].value_counts()"
   ]
  },
  {
   "cell_type": "code",
   "execution_count": null,
   "metadata": {},
   "outputs": [],
   "source": [
    "df.drop(df.index[df['params_adjacency'] == 'pruned'], inplace=True)\n",
    "df.drop(index=df.nlargest(10, 'value').index, inplace=True)\n",
    "sns.swarmplot(\n",
    "    data = df,\n",
    "    x = 'params_adjacency',\n",
    "    y = 'value',\n",
    "    hue = 'params_n_layers'\n",
    "    )"
   ]
  },
  {
   "cell_type": "markdown",
   "metadata": {},
   "source": [
    "# 0.2"
   ]
  },
  {
   "cell_type": "code",
   "execution_count": null,
   "metadata": {},
   "outputs": [],
   "source": [
    "df = df_dict['v2-0.2']"
   ]
  },
  {
   "cell_type": "code",
   "execution_count": null,
   "metadata": {},
   "outputs": [],
   "source": [
    "df.nsmallest(5, 'value')"
   ]
  },
  {
   "cell_type": "code",
   "execution_count": null,
   "metadata": {},
   "outputs": [],
   "source": [
    "df.drop(index=df.nlargest(5, 'value').index, inplace=True)\n",
    "sns.swarmplot(\n",
    "    data = df,\n",
    "    x = 'params_adjacency',\n",
    "    y = 'value',\n",
    "    hue = 'params_n_layers'\n",
    "    )"
   ]
  },
  {
   "cell_type": "code",
   "execution_count": null,
   "metadata": {},
   "outputs": [],
   "source": [
    "df['params_adjacency'].value_counts()"
   ]
  },
  {
   "cell_type": "code",
   "execution_count": null,
   "metadata": {},
   "outputs": [],
   "source": [
    "df.drop(df.index[df['params_adjacency'] == 'pruned'], inplace=True)\n",
    "df.drop(index=df.nlargest(10, 'value').index, inplace=True)\n",
    "sns.swarmplot(\n",
    "    data = df,\n",
    "    x = 'params_adjacency',\n",
    "    y = 'value',\n",
    "    hue = 'params_n_layers'\n",
    "    )"
   ]
  },
  {
   "cell_type": "markdown",
   "metadata": {},
   "source": [
    "# 0.4"
   ]
  },
  {
   "cell_type": "code",
   "execution_count": null,
   "metadata": {},
   "outputs": [],
   "source": [
    "df = df_dict['v2-0.4']\n",
    "df.nsmallest(5, 'value')"
   ]
  },
  {
   "cell_type": "code",
   "execution_count": null,
   "metadata": {},
   "outputs": [],
   "source": [
    "df.drop(index=df.nlargest(10, 'value').index, inplace=True)\n",
    "sns.swarmplot(\n",
    "    data = df,\n",
    "    x = 'params_adjacency',\n",
    "    y = 'value',\n",
    "    hue = 'params_n_layers'\n",
    "    )"
   ]
  },
  {
   "cell_type": "code",
   "execution_count": null,
   "metadata": {},
   "outputs": [],
   "source": [
    "df['params_adjacency'].value_counts()"
   ]
  },
  {
   "cell_type": "code",
   "execution_count": null,
   "metadata": {},
   "outputs": [],
   "source": [
    "df.drop(df.index[df['params_adjacency'] == 'pruned'], inplace=True)\n",
    "df.drop(index=df.nlargest(10, 'value').index, inplace=True)\n",
    "sns.swarmplot(\n",
    "    data = df,\n",
    "    x = 'params_adjacency',\n",
    "    y = 'value',\n",
    "    hue = 'params_n_layers'\n",
    "    )"
   ]
  },
  {
   "cell_type": "markdown",
   "metadata": {},
   "source": [
    "# 0.8"
   ]
  },
  {
   "cell_type": "code",
   "execution_count": null,
   "metadata": {},
   "outputs": [],
   "source": [
    "df = df_dict['v2-0.8']\n",
    "df.nsmallest(5, 'value')"
   ]
  },
  {
   "cell_type": "code",
   "execution_count": null,
   "metadata": {},
   "outputs": [],
   "source": [
    "df.drop(index=df.nlargest(5, 'value').index, inplace=True)\n",
    "sns.swarmplot(\n",
    "    data = df,\n",
    "    x = 'params_adjacency',\n",
    "    y = 'value',\n",
    "    hue = 'params_n_layers'\n",
    "    )"
   ]
  },
  {
   "cell_type": "code",
   "execution_count": null,
   "metadata": {},
   "outputs": [],
   "source": [
    "df['params_adjacency'].value_counts()"
   ]
  },
  {
   "cell_type": "code",
   "execution_count": null,
   "metadata": {},
   "outputs": [],
   "source": [
    "df.drop(df.index[df['params_adjacency'] == 'pruned'], inplace=True)\n",
    "df.drop(index=df.nlargest(10, 'value').index, inplace=True)\n",
    "sns.swarmplot(\n",
    "    data = df,\n",
    "    x = 'params_adjacency',\n",
    "    y = 'value',\n",
    "    hue = 'params_n_layers'\n",
    "    )"
   ]
  }
 ],
 "metadata": {
  "kernelspec": {
   "display_name": "Python 3",
   "language": "python",
   "name": "python3"
  },
  "language_info": {
   "codemirror_mode": {
    "name": "ipython",
    "version": 3
   },
   "file_extension": ".py",
   "mimetype": "text/x-python",
   "name": "python",
   "nbconvert_exporter": "python",
   "pygments_lexer": "ipython3",
   "version": "3.8.8"
  }
 },
 "nbformat": 4,
 "nbformat_minor": 4
}
